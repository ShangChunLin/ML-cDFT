{
 "cells": [
  {
   "cell_type": "markdown",
   "metadata": {},
   "source": [
    "# Convolution in GPU \n",
    "## working , but not faster\n",
    "## for small system, exploit GPU is difficult"
   ]
  },
  {
   "cell_type": "code",
   "execution_count": 2,
   "metadata": {},
   "outputs": [],
   "source": [
    "import numpy as np\n",
    "from scipy import signal\n",
    "%matplotlib inline\n",
    "\n",
    "import matplotlib\n",
    "import matplotlib.pyplot as plt\n",
    "\n",
    "from timeit import default_timer as timer\n",
    "\n",
    "#speed improve, useless if parrallel activate\n",
    "from numba import jit,autojit\n",
    "\n",
    "import pycuda.driver as cuda\n",
    "import pycuda.autoinit\n",
    "from pycuda.compiler import SourceModule\n"
   ]
  },
  {
   "cell_type": "code",
   "execution_count": 25,
   "metadata": {},
   "outputs": [
    {
     "data": {
      "text/plain": [
       "8.03125"
      ]
     },
     "execution_count": 25,
     "metadata": {},
     "output_type": "execute_result"
    }
   ],
   "source": [
    "N = 1024\n",
    "L = 32\n",
    "dx = np.float(L)/N\n",
    "Nw = 8\n",
    "Lw = int(np.floor(8/dx)+1)\n",
    "LLw = int(np.floor(8/dx)/2)\n",
    "Lw*dx"
   ]
  },
  {
   "cell_type": "code",
   "execution_count": 26,
   "metadata": {},
   "outputs": [],
   "source": [
    "\"\"\"initial w\"\"\"\n",
    "def initial_kernel():\n",
    "    \n",
    "    np.random.seed(0)\n",
    "    w = np.random.normal(0,1,Nw*Lw)*0.02\n",
    "    w=w.reshape((Nw,Lw))\n",
    "\n",
    "    return w"
   ]
  },
  {
   "cell_type": "code",
   "execution_count": 27,
   "metadata": {},
   "outputs": [],
   "source": [
    "w = initial_kernel()\n"
   ]
  },
  {
   "cell_type": "code",
   "execution_count": 136,
   "metadata": {},
   "outputs": [],
   "source": [
    "def conv_cpu (rho,w):\n",
    "    rho_pad=np.zeros((N+Lw-1))\n",
    "    rho_pad[LLw:LLw+N]=rho\n",
    "    rho_pad[0:LLw]=rho_pad[N:N+LLw]\n",
    "    rho_pad[N+LLw:N+LLw*2]=rho_pad[LLw:LLw+LLw]\n",
    "    n = np.correlate(rho_pad,w)\n",
    "    return n*dx\n",
    "\n",
    "@jit(cache=True,nopython=True)\n",
    "def conv_cpu2 (rho,w):\n",
    "    n=np.zeros(N)\n",
    "    rho_pad=np.zeros((N+Lw-1))\n",
    "    rho_pad[LLw:LLw+N]=rho\n",
    "    rho_pad[0:LLw]=rho_pad[N:N+LLw]\n",
    "    rho_pad[N+LLw:N+LLw*2]=rho_pad[LLw:LLw+LLw]\n",
    "    for i in range (N):\n",
    "        n[i]=np.sum(w*rho_pad[i:i+Lw])\n",
    "    return n*dx\n",
    "\n",
    "\n",
    "\n",
    "@jit(cache=True)\n",
    "def conv_fft (rho,w):\n",
    "    rho_pad=np.zeros((N+Lw-1))\n",
    "    rho_pad[LLw:LLw+N]=rho\n",
    "    rho_pad[0:LLw]=rho_pad[N:N+LLw]\n",
    "    rho_pad[N+LLw:N+LLw*2]=rho_pad[LLw:LLw+LLw]\n",
    "    n = signal.correlate(rho_pad,w,mode='valid')\n",
    "    \n",
    "    return n*dx\n",
    "\n",
    "mod = SourceModule(\"\"\"\n",
    "  __global__ void conv_cuda(float *n,float *rho, float *w,int Lw,int N)\n",
    "  {\n",
    "    int idx = threadIdx.x+blockIdx.x*blockDim.x;\n",
    "    n[idx]=0;\n",
    "    int LLw = (Lw-1)/2;\n",
    "    for(int i=0;i<Lw;i++)\n",
    "    {\n",
    "        int p = (idx-LLw+i)%N;\n",
    "        \n",
    "        if(p<0) p += N;\n",
    "        \n",
    "        if(p>=N) p -= N;\n",
    "        \n",
    "        n[idx]+=rho[p]*w[i];\n",
    "        //n[idx]=N;\n",
    "    }\n",
    "  }\n",
    "  \"\"\")\n",
    "\n",
    "conv_cuda2 = mod.get_function(\"conv_cuda\")\n",
    "def conv(rho,w):\n",
    "    n = np.zeros(N,dtype='single')\n",
    "    rho = rho.astype('single')\n",
    "    w=w.astype('single')\n",
    "    #print(type(w))\n",
    "    conv_cuda2(cuda.Out(n),cuda.In(rho),cuda.In(w),np.int32(Lw),np.int32(N), block=(512,1,1),grid=(int((N+511)/512),1,1))\n",
    "    return n*dx"
   ]
  },
  {
   "cell_type": "code",
   "execution_count": 137,
   "metadata": {},
   "outputs": [
    {
     "data": {
      "text/plain": [
       "7.631810967752504e-32"
      ]
     },
     "execution_count": 137,
     "metadata": {},
     "output_type": "execute_result"
    }
   ],
   "source": [
    "rho = np.random.normal(1,1,N)\n",
    "#conv(rho,w[0])\n",
    "#conv_fft(rho,w[0])\n",
    "np.sum((conv_cpu(rho,w[0])-conv_cpu2(rho,w[0]))**2)\n"
   ]
  },
  {
   "cell_type": "code",
   "execution_count": 138,
   "metadata": {},
   "outputs": [
    {
     "data": {
      "text/plain": [
       "3.9016399075754114e-16"
      ]
     },
     "execution_count": 138,
     "metadata": {},
     "output_type": "execute_result"
    }
   ],
   "source": [
    "rho = np.full(N,1)\n",
    "np.sum((conv_fft(rho,w[0])-conv(rho.astype('single'),w[0].astype('single')))**2)"
   ]
  },
  {
   "cell_type": "code",
   "execution_count": 139,
   "metadata": {},
   "outputs": [
    {
     "name": "stdout",
     "output_type": "stream",
     "text": [
      "84.5 µs ± 3.57 µs per loop (mean ± std. dev. of 7 runs, 100 loops each)\n"
     ]
    }
   ],
   "source": [
    "%timeit -n100 conv_fft(rho,w[0])"
   ]
  },
  {
   "cell_type": "code",
   "execution_count": 140,
   "metadata": {},
   "outputs": [
    {
     "name": "stdout",
     "output_type": "stream",
     "text": [
      "640 µs ± 31 µs per loop (mean ± std. dev. of 7 runs, 100 loops each)\n"
     ]
    }
   ],
   "source": [
    "%timeit -n100 conv(rho,w[0])"
   ]
  },
  {
   "cell_type": "code",
   "execution_count": 141,
   "metadata": {},
   "outputs": [
    {
     "name": "stdout",
     "output_type": "stream",
     "text": [
      "52.7 µs ± 6.63 µs per loop (mean ± std. dev. of 7 runs, 100 loops each)\n"
     ]
    }
   ],
   "source": [
    "#rho=rho.astype('single')\n",
    "#w0 = w[0].astype('single')\n",
    "%timeit -n100 conv_cpu(rho,w[0])"
   ]
  },
  {
   "cell_type": "code",
   "execution_count": 143,
   "metadata": {},
   "outputs": [
    {
     "name": "stdout",
     "output_type": "stream",
     "text": [
      "529 µs ± 49.8 µs per loop (mean ± std. dev. of 7 runs, 1 loop each)\n"
     ]
    }
   ],
   "source": [
    "%timeit -n1 conv_cpu2(rho,w[0])"
   ]
  },
  {
   "cell_type": "code",
   "execution_count": null,
   "metadata": {},
   "outputs": [],
   "source": []
  }
 ],
 "metadata": {
  "kernelspec": {
   "display_name": "Python 3",
   "language": "python",
   "name": "python3"
  },
  "language_info": {
   "codemirror_mode": {
    "name": "ipython",
    "version": 3
   },
   "file_extension": ".py",
   "mimetype": "text/x-python",
   "name": "python",
   "nbconvert_exporter": "python",
   "pygments_lexer": "ipython3",
   "version": "3.6.4"
  }
 },
 "nbformat": 4,
 "nbformat_minor": 2
}
