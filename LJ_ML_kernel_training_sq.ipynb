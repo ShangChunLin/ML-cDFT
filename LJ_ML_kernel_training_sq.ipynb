{
 "cells": [
  {
   "cell_type": "markdown",
   "metadata": {},
   "source": [
    "# Machine learning for free energy functional for 1D Lennard Jones fluid\n",
    "## -Traning part"
   ]
  },
  {
   "cell_type": "code",
   "execution_count": 1,
   "metadata": {},
   "outputs": [
    {
     "name": "stdout",
     "output_type": "stream",
     "text": [
      "\n"
     ]
    }
   ],
   "source": [
    "import numpy as np\n",
    "%matplotlib inline\n",
    "\n",
    "import matplotlib\n",
    "import matplotlib.pyplot as plt\n",
    "\n",
    "from timeit import default_timer as timer\n",
    "\n",
    "#speed improve, useless if parrallel activate\n",
    "from numba import jit\n",
    "\n",
    "#use pymp for parrallel, if no pymp then switch to \"ML_kernel_single\" \n",
    "#num_thread = number of cpu \n",
    "\n",
    "import pymp\n",
    "num_thread = 8\n",
    "\n",
    "print()"
   ]
  },
  {
   "cell_type": "code",
   "execution_count": 2,
   "metadata": {},
   "outputs": [],
   "source": [
    "# none = change mu and epsilon\n",
    "# fix_mu_T = fix mu and epsilon\n",
    "# fuzzy = less accuracy, higher resolution \n",
    "\n",
    "#file_dir = \"_fix_mu_T\"\n",
    "file_dir = \"_fuzzy\"\n"
   ]
  },
  {
   "cell_type": "code",
   "execution_count": 3,
   "metadata": {},
   "outputs": [],
   "source": [
    "# load simulation parameters\n",
    "# L - system box size\n",
    "# dx - spacing \n",
    "# N - grid points\n",
    "# batch_size - number of samples\n",
    "\n",
    "f = open('LJ_data'+file_dir+'/MC_parameter.dat', 'r')\n",
    "temp = f.read().split(\"\\t\")\n",
    "L=float(temp[0])\n",
    "dx=float(temp[1])\n",
    "N=int(L/dx)\n",
    "batch_size = int(temp[2])\n",
    "f.close()"
   ]
  },
  {
   "cell_type": "code",
   "execution_count": 4,
   "metadata": {},
   "outputs": [
    {
     "name": "stdout",
     "output_type": "stream",
     "text": [
      "0.03125\t32.0\t256\n"
     ]
    }
   ],
   "source": [
    "print(str(dx)+\"\\t\"+str(L)+\"\\t\"+str(batch_size))"
   ]
  },
  {
   "cell_type": "code",
   "execution_count": 5,
   "metadata": {},
   "outputs": [],
   "source": [
    "# assign mini batch size 32 or 64 seems good\n",
    "mini_batch = 32"
   ]
  },
  {
   "cell_type": "code",
   "execution_count": 6,
   "metadata": {},
   "outputs": [],
   "source": [
    "# force batch_size/mini_batch be integer\n",
    "\n",
    "f = open('LJ_data'+file_dir+'/MC_inform.dat', 'r')\n",
    "MC_inform = f.read().splitlines()\n",
    "for i in range(len(MC_inform)):\n",
    "    #print(MC_inform[i])\n",
    "    MC_inform[i]=MC_inform[i].split(\"\\t\")\n",
    "f.close()\n",
    "batch_size = (len(MC_inform)//mini_batch)*mini_batch"
   ]
  },
  {
   "cell_type": "code",
   "execution_count": 7,
   "metadata": {},
   "outputs": [
    {
     "name": "stdout",
     "output_type": "stream",
     "text": [
      "0.03125\t1024\t32.0\t256\n"
     ]
    }
   ],
   "source": [
    "print(str(dx)+\"\\t\"+str(N)+\"\\t\"+str(L)+\"\\t\"+str(batch_size))"
   ]
  },
  {
   "cell_type": "code",
   "execution_count": 8,
   "metadata": {},
   "outputs": [],
   "source": [
    "MC_inform = np.array(MC_inform)\n",
    "MC_inform = MC_inform.astype(float)"
   ]
  },
  {
   "cell_type": "code",
   "execution_count": 9,
   "metadata": {},
   "outputs": [
    {
     "data": {
      "text/plain": [
       "8.03125"
      ]
     },
     "execution_count": 9,
     "metadata": {},
     "output_type": "execute_result"
    }
   ],
   "source": [
    "##\n",
    "# ML parameters\n",
    "# Nw - number of kernels\n",
    "# Lw - cutoff length of kernels \n",
    "# LLw - cutoff length of kernels /2\n",
    "# grid points of Lw must be odd number, so convolution can be centered\n",
    "\n",
    "Nw = 8\n",
    "Lw = int(np.floor(8/dx)+1)\n",
    "LLw = int(np.floor(8/dx)/2)\n",
    "Lw*dx"
   ]
  },
  {
   "cell_type": "code",
   "execution_count": 10,
   "metadata": {},
   "outputs": [],
   "source": [
    "#test for loading \n",
    "# rho -> density profile\n",
    "# rho0 -> reservar density\n",
    "# mu -> chemical potential\n",
    "# Vext -> external potential\n",
    "\n",
    "rho_array = np.zeros((mini_batch,N))\n",
    "rho0_array = np.zeros((mini_batch))\n",
    "epsilon_array = np.zeros((mini_batch))\n",
    "mu_array = np.zeros((mini_batch))\n",
    "Vext_array = np.zeros((mini_batch,N))\n"
   ]
  },
  {
   "cell_type": "code",
   "execution_count": 11,
   "metadata": {},
   "outputs": [],
   "source": [
    "# initial kernel by noise, force beta symmetry\n",
    "\n",
    "\"\"\"initial w\"\"\"\n",
    "def initial_kernel():\n",
    "    \n",
    "    np.random.seed(0)\n",
    "    w = np.random.normal(0,1,Nw*Lw)*0.01\n",
    "    w=w.reshape((Nw,Lw))\n",
    "    \n",
    "    np.random.seed(1)\n",
    "    beta1 = np.random.normal(0,1,Nw**2)*0.01\n",
    "    beta1=beta1.reshape((Nw,Nw))\n",
    "    beta1=0.5*(beta1+np.transpose(beta1))#must sysmetry\n",
    "    #beta1[0][0]=1\n",
    "    return w,beta1"
   ]
  },
  {
   "cell_type": "code",
   "execution_count": 12,
   "metadata": {},
   "outputs": [
    {
     "name": "stdout",
     "output_type": "stream",
     "text": [
      "[ 0.01624345 -0.00146359 -0.003503   -0.00086056  0.00089117 -0.01246687\n",
      "  0.00932485  0.00038888] [-0.00146359 -0.0024937   0.00292125 -0.01371934 -0.00583811 -0.00635842\n",
      "  0.00875486 -0.00084395]\n"
     ]
    }
   ],
   "source": [
    "w,beta1 = initial_kernel()\n",
    "print(beta1[0],beta1[1])"
   ]
  },
  {
   "cell_type": "code",
   "execution_count": 13,
   "metadata": {},
   "outputs": [],
   "source": [
    "\"\"\"load data with shuffle\"\"\"\n",
    "# for stochastic load,i.e. load random \n",
    "# mini_batch in all samples, just to speedup gradient descent\n",
    "\n",
    "@jit\n",
    "def load_data (batch_number):\n",
    "    for j in range(mini_batch):\n",
    "        i = batch_number[j]\n",
    "        \n",
    "        rho_array[j]=np.loadtxt(\"LJ_data\"+file_dir+\"/rho_\"+str(i)+\".dat\")\n",
    "        #rho_array[j]=(rho_array[j]+rho_array[j][::-1])/2 #force symmetry ? \n",
    "        \n",
    "        Vext_array[j]=np.loadtxt(\"LJ_data\"+file_dir+\"/Vext_\"+str(i)+\".dat\")\n",
    "        epsilon_array[j]=float(MC_inform[i][1])\n",
    "        mu_array[j]=np.log(float(MC_inform[i][2]))\n",
    "        \n",
    "    return rho_array,Vext_array,epsilon_array,mu_array"
   ]
  },
  {
   "cell_type": "code",
   "execution_count": 14,
   "metadata": {},
   "outputs": [],
   "source": [
    "# convolution (cross correltion) in 1d \n",
    "# with periodic boundary condition\n",
    "\n",
    "@jit\n",
    "def conv (rho,w):\n",
    "\n",
    "    rho_pad=np.pad(rho,(LLw,LLw),'symmetric')\n",
    "    rho_pad[0:LLw]=rho_pad[N:N+LLw]\n",
    "    rho_pad[N+LLw:N+LLw*2]=rho_pad[LLw:LLw+LLw]\n",
    "    n = np.correlate(rho_pad,w)\n",
    "    \n",
    "    return n*dx"
   ]
  },
  {
   "cell_type": "markdown",
   "metadata": {},
   "source": [
    "## Hard rod\n",
    "\n",
    "$\\cal F^{\\rm HR}= - \\int n_0\\ln(1-n_1) dx$\n",
    "\n",
    "$n_i(x)=\\int\\rho(x^\\prime)\\omega^{\\rm hr}_i(x-x^\\prime) dx^{\\prime}$ $\\rightarrow$ convolution \n",
    "\n",
    "$\\omega^{\\rm hr}_0(x)=\\frac{1}{2}\\delta(R-|x|)$ \n",
    "\n",
    "$\\omega^{\\rm hr}_1(x)=\\theta(R-|x|)$\n",
    "\n",
    "\n",
    "$R=\\frac{1}{2}\\sigma$\n",
    "\n",
    "$c_1=\\frac{\\delta F^{exc}}{\\delta \\rho}$\n",
    "\n",
    "## Convolution and fourier transform\n",
    "Convolution usually computed in Fouier space due to the computational cost \n",
    "$$f\\otimes g=\\int f(x^\\prime) g(x-x^\\prime) dx^{\\prime}$$\n",
    "with $\\otimes$ denoting convolution, and \n",
    "$$\\mathscr{F}[f\\otimes g]=\\mathscr{F}[f]\\cdot\\mathscr{F}[g]$$\n",
    "\n",
    "For our work, it is useful to calculate the analytical expression of $\\omega_0^{\\rm hr}$ and $\\omega_1^{\\rm hr}$ in the frequency domain \n",
    "$$\\mathscr{F}[\\omega^{\\rm hr}_0]=\\cos(k R)$$\n",
    "$$\\mathscr{F}[\\omega^{\\rm hr}_1]=\\frac{2\\sin(k R)}{k}$$ "
   ]
  },
  {
   "cell_type": "code",
   "execution_count": 15,
   "metadata": {},
   "outputs": [],
   "source": [
    "# 1d FMT kernel\n",
    "@jit\n",
    "def w_FMT(eps):\n",
    "    #d=cal_eff_diameter (eps)\n",
    "    R = 1.0/2\n",
    "    k=np.linspace(0,N//2,N//2+1)*2*np.pi/L\n",
    "    w0=2*np.cos(k*R)/2\n",
    "    k[0]=1 #keep notebook shutup\n",
    "    w1=2*np.sin(k*R)/k\n",
    "    w1[0]=2*R\n",
    "    return w0,w1;\n",
    "\n",
    "@jit\n",
    "def cal_n0(rho,w0):\n",
    "    return np.fft.irfft(np.fft.rfft(rho)*w0)\n",
    "\n",
    "@jit\n",
    "def cal_n1(rho,w1):\n",
    "    return np.fft.irfft(np.fft.rfft(rho)*w1)\n",
    "\n",
    "@jit\n",
    "def cal_c1_FMT(rho,eps):\n",
    "    w0,w1 = w_FMT(eps)\n",
    "    n0=cal_n0(rho,w0)\n",
    "    n1=cal_n1(rho,w1)\n",
    "    F0=-np.log(1-n1)\n",
    "    F1=n0/(1-n1)\n",
    "    return cal_n0(F0,w0)+cal_n1(F1,w1)\n",
    "    \n",
    "    "
   ]
  },
  {
   "cell_type": "markdown",
   "metadata": {},
   "source": [
    "## combine free enegy functional of HR and ML\n",
    "$\\cal F^{\\rm exc}=\\cal F^{\\rm HR}+\\cal F^{\\rm ML}$\n",
    "\n",
    "$c_1=\\frac{\\delta F^{exc}}{\\delta \\rho}=\\frac{\\delta F^{ML}+F^{HR}}{\\delta \\rho}$\n",
    "\n",
    "$\\frac{\\delta \\cal F^{\\rm HR}}{\\delta\\rho} = -\\ln(1-n_1) \\otimes \\omega^{\\rm hr}_0 + \\frac{n_0}{1-n_1} \\otimes \\omega^{\\rm hr}_1$\n",
    "\n",
    "$\\cal F^{\\rm ML}=\\epsilon\\sum_{ij} \\beta_{ij} n_i n_j$\n",
    "\n",
    "$\\frac{\\delta \\cal F^{\\rm ML}}{\\delta\\rho}=\\epsilon\\sum_{ij} \\beta_{ij} (n_i \\otimes \\omega_j + n_j \\otimes \\omega_i)$"
   ]
  },
  {
   "cell_type": "code",
   "execution_count": 16,
   "metadata": {},
   "outputs": [],
   "source": [
    "# compute c1 \n",
    "\n",
    "@jit\n",
    "def cal_c1(beta,eps,n,w,rho):\n",
    "    c1 = np.zeros((N))\n",
    "    for i in range(Nw):\n",
    "        for j in range(Nw):\n",
    "            c1+=eps*beta[i][j]*(conv(n[i],w[j])+conv(n[j],w[i]))\n",
    "    c1+=cal_c1_FMT(rho,eps)\n",
    "    return c1"
   ]
  },
  {
   "cell_type": "markdown",
   "metadata": {},
   "source": [
    "#### $\\rho^{ML} = \\exp(\\mu-c_1-V_{ext})$"
   ]
  },
  {
   "cell_type": "code",
   "execution_count": 17,
   "metadata": {},
   "outputs": [],
   "source": [
    "#determine z=exp(mu) by minimize distance between rho^{ML} and rho^{simulation}\n",
    "#return mu = ln(z)\n",
    "@jit\n",
    "def f (rho,c,rhoML):\n",
    "    return np.sum((rho-c*rhoML)**2)\n",
    "\n",
    "@jit\n",
    "def cal_mu_ML(rho,c1,Vext):\n",
    "    rhoML = np.exp(-c1-Vext)\n",
    "    mu_guess = np.zeros(3)\n",
    "    res = np.zeros(3)\n",
    "    \n",
    "    for i in range(3):\n",
    "        mu_guess[i] = i-1.0\n",
    "    interval = 1\n",
    "    \n",
    "    for iteration in range (1000):\n",
    "        for i in range(3):\n",
    "            res[i] = f(rho,mu_guess[i],rhoML)\n",
    "        if(res[0]>res[1] and res[2]>res[1]):\n",
    "            interval/=2\n",
    "            mu_guess[0]=mu_guess[1]-interval\n",
    "            mu_guess[2]=mu_guess[1]+interval\n",
    "        elif(res[1]>res[0] and res[2]>res[0]):\n",
    "            temp = mu_guess[0]\n",
    "            mu_guess[0]=temp-interval\n",
    "            mu_guess[1]=temp\n",
    "            mu_guess[2]=temp+interval\n",
    "        else:\n",
    "            temp = mu_guess[2]\n",
    "            mu_guess[0]=temp-interval\n",
    "            mu_guess[1]=temp\n",
    "            mu_guess[2]=temp+interval\n",
    "        if(interval<10**-8):\n",
    "            break\n",
    "    #print(\"mu guess\",mu_guess[1],1.5)\n",
    "    #print(np.log(mu_guess[1]),mu_guess[1])\n",
    "    return np.log(mu_guess[1])\n",
    "            \n",
    "    \n",
    "     "
   ]
  },
  {
   "cell_type": "markdown",
   "metadata": {},
   "source": [
    "determine reservoir density $\\rho_0$ by \n",
    "\n",
    "$\\mu = c_1 + \\ln(\\rho_0)$\n",
    "\n",
    "\n",
    "$c_1=\\frac{\\delta F^{exc}}{\\delta \\rho}=\\frac{\\delta F^{ML}+F^{HR}}{\\delta \\rho}|_{\\rho=\\rho_0}$\n"
   ]
  },
  {
   "cell_type": "code",
   "execution_count": 18,
   "metadata": {},
   "outputs": [],
   "source": [
    "@jit\n",
    "def f2 (c1,x,mu,eps):\n",
    "    rho_temp = np.full(N,x)\n",
    "    c1_FMT = cal_c1_FMT(rho_temp,eps)[0]\n",
    "    return (c1*x+np.log(x)+c1_FMT-mu)**2\n",
    "\n",
    "@jit\n",
    "def cal_rho0(mu,w,beta,eps):\n",
    "    \n",
    "    c1=0  \n",
    "    for i in range(Nw):\n",
    "        for j in range(Nw):\n",
    "            c1+=eps*beta[i][j]*(np.sum(np.sum(w[i])*w[j]))*dx**2*2\n",
    "\n",
    "    rho_guess = np.zeros(3)\n",
    "    res = np.zeros(3)\n",
    "    interval = 0.01\n",
    "\n",
    "    for i in range(3):\n",
    "        rho_guess[i] = 0.3+interval*i\n",
    "        \n",
    "    for iteration in range (10000):\n",
    "        for i in range(3):\n",
    "            res[i] = f2(c1,rho_guess[i],mu,eps)\n",
    "        if(res[0]>res[1] and res[2]>res[1]):\n",
    "            interval/=2\n",
    "            rho_guess[0]=rho_guess[1]-interval\n",
    "            rho_guess[2]=rho_guess[1]+interval\n",
    "        elif(res[1]>res[0] and res[2]>res[0]):\n",
    "            temp = rho_guess[0]\n",
    "            rho_guess[0]=temp-interval\n",
    "            rho_guess[1]=temp\n",
    "            rho_guess[2]=temp+interval\n",
    "        else:\n",
    "            temp = rho_guess[2]\n",
    "            rho_guess[0]=temp-interval\n",
    "            rho_guess[1]=temp\n",
    "            rho_guess[2]=temp+interval\n",
    "            \n",
    "        if(rho_guess[0]<0 or rho_guess[2]>1):\n",
    "            break\n",
    "        if(interval<10**-8):\n",
    "            #print(rho_guess[1],iteration)\n",
    "            break        \n",
    "    \n",
    "    temp=rho_guess[1]\n",
    "    if(temp<=0):\n",
    "        return 0.1\n",
    "    elif(temp>1):\n",
    "        return 0.9\n",
    "    else:\n",
    "        return rho_guess[1]"
   ]
  },
  {
   "cell_type": "markdown",
   "metadata": {},
   "source": [
    "#### $\\rho^{ML} = \\exp(\\mu-c_1-V_{ext})$"
   ]
  },
  {
   "cell_type": "code",
   "execution_count": 19,
   "metadata": {},
   "outputs": [],
   "source": [
    "@jit\n",
    "def cal_rho_ML(mu,c1,V):\n",
    "    rho_ML = np.exp(-c1-V+mu)\n",
    "    return rho_ML"
   ]
  },
  {
   "cell_type": "markdown",
   "metadata": {},
   "source": [
    "Cost function $J=\\sum \\int(\\rho_{sim}-\\rho_{ML})^2$"
   ]
  },
  {
   "cell_type": "code",
   "execution_count": 20,
   "metadata": {},
   "outputs": [],
   "source": [
    "@jit\n",
    "def error (rho,rho_ML):\n",
    "    return np.sum((rho-rho_ML)**2)*dx\n"
   ]
  },
  {
   "cell_type": "markdown",
   "metadata": {},
   "source": [
    "Determine $\\frac{\\partial J}{\\partial \\beta}$\n",
    "$$\n",
    "\\frac{\\partial J}{\\partial \\beta_{ij}}=-2\\sum_{k=1}^{M} \\int_0^L (\\rho^{sim}_{k}-\\rho^{ML}_{k})\\rho^{ML}_{k} \\left(\\frac{\\partial \\mu_k^{ML}}{\\partial \\beta_{ij}} - n_{k,i}\\otimes \\omega_j-n_{k,j}\\otimes \\omega_i\\right)dx \n",
    "$$"
   ]
  },
  {
   "cell_type": "code",
   "execution_count": 21,
   "metadata": {},
   "outputs": [],
   "source": [
    "@jit\n",
    "def Dbeta_tot(rho_ML,rho,rho0,eps,n,w,i,j):\n",
    "    temp=np.zeros((N))    \n",
    "    for k in range(mini_batch):\n",
    "        c1=(np.sum(np.sum(rho0[k]*w[i])*w[j]))*2*dx**2  \n",
    "        temp+=(2.0)*(rho_ML[k]-rho[k])*rho_ML[k]*eps[k]*(c1-conv(n[k][i],w[j])-conv(n[k][j],w[i]))\n",
    "    \n",
    "    return np.sum(temp)*dx"
   ]
  },
  {
   "cell_type": "markdown",
   "metadata": {},
   "source": [
    "Determine $\\frac{\\delta J}{\\delta \\omega}$\n",
    "$$\n",
    "\\frac{\\delta J}{\\delta \\omega_{i}(x^{\\prime})} = -8\\left\\lbrace\\sum_{k=1}^{M} \\int_0^L dx\\, (\\rho^{sim}_{k}-\\rho^{ml}_{k}) \\rho^{ml}_{k}  \\epsilon_k\\sum_j \\beta_{ij}  \\left( n^0_{k,j} -n_{k,j}(x+x^{\\prime})\\right)\\right\\rbrace \n",
    "$$\n",
    "\n",
    "say $ m=n \\otimes \\omega $\n",
    "\n",
    "$m[i]=\\sum_{j=-LLw}^{LLw} n[i+j]\\omega[j] $\n",
    "\n",
    "if $\\omega[j] \\rightarrow \\omega[j]+\\Delta \\omega[j]$\n",
    "\n",
    "$\\Delta m[i]=n[i+j]\\Delta\\omega[j] $\n",
    "\n",
    "$\\Rightarrow \\frac{\\delta m}{\\delta \\omega[j]}[i]=n[i+j]$"
   ]
  },
  {
   "cell_type": "code",
   "execution_count": 22,
   "metadata": {},
   "outputs": [],
   "source": [
    "# rhow[ith kernel][position]\n",
    "@jit\n",
    "def DwF(rhow,beta,j):\n",
    "    temp=np.zeros((N))\n",
    "    for i in range(Nw):\n",
    "        temp+=rhow[i]*beta[i][j]\n",
    "    return temp\n",
    "\n",
    "@jit\n",
    "def Dwmu(beta,rho0,w,j):\n",
    "    c1=0\n",
    "    for i in range(Nw):\n",
    "        c1+=4*(beta[i][j])*(np.sum(rho0*w[i]))*dx**2\n",
    "    return c1\n",
    "\n",
    "# rhow[ith sample][shifted distance][ith kernel][position]\n",
    "@jit\n",
    "def Dw_tot(rho_ML,rho,rho0,rhow,j,p,beta,eps,w):\n",
    "    temp=np.zeros(mini_batch)\n",
    "    for k in range(mini_batch): \n",
    "        temp[k]=np.sum((rho_ML[k]-rho[k])*(2)*rho_ML[k]*eps[k]*(\n",
    "            Dwmu(beta,rho0[k],w,j)-DwF(rhow[k][p],beta,j)))\n",
    "    #print(temp)\n",
    "    return np.sum(temp)*dx"
   ]
  },
  {
   "cell_type": "code",
   "execution_count": 23,
   "metadata": {},
   "outputs": [],
   "source": [
    "# n_array[ith kernel][position]\n",
    "# rhow[shifted distance][ith kernel][position]\n",
    "\n",
    "# n_array[k] -> rho[k] conv w[k]\n",
    "# shifted n by -LLw to LLw to speedup\n",
    "\n",
    "@jit\n",
    "def kernel_rhow(n_array,w):\n",
    "    rhow = np.zeros((Lw,Nw,N))\n",
    "    for k in range(Nw):\n",
    "        for p in range(Lw):\n",
    "            rhow[p][k]=np.roll(n_array[k],-(p-LLw))*dx*4\n",
    "    return rhow"
   ]
  },
  {
   "cell_type": "code",
   "execution_count": 24,
   "metadata": {},
   "outputs": [],
   "source": [
    "## single cpu\n",
    "def ML_kernel_single(seed,w,beta,alpha):\n",
    "    \n",
    "    ### initial seed \n",
    "    ### batch array = [0,1,2....number of samples] then shuffle\n",
    "    np.random.seed(seed)\n",
    "    batch_number=np.arange(batch_size)\n",
    "    np.random.shuffle(batch_number)\n",
    "    \n",
    "    ### initial array \n",
    "    dbeta = np.zeros((beta.shape))\n",
    "    dw = np.zeros((w.shape))\n",
    "    \n",
    "    rhoML_array = np.zeros((mini_batch,N))\n",
    "    rho0ML_array = np.zeros((mini_batch))\n",
    "    n_array = np.zeros([mini_batch,Nw,N])\n",
    "    rhow = np.zeros((mini_batch,Lw,Nw,N))\n",
    "\n",
    "    # epco = epoch\n",
    "    # typo in the very beginning, too lazy to change\n",
    "    # epco_error will sum all minibatch error\n",
    "    \n",
    "    epco_error = 0\n",
    "    \n",
    "    for M in range(int(batch_size/mini_batch)):\n",
    "        #load simulation data\n",
    "        #print(str(M)+'/'+str(batch_size/mini_batch))\n",
    "        rho_array,Vext_array,epsilon_array,mu_array=load_data (\n",
    "            batch_number[M*mini_batch:(M+1)*mini_batch])\n",
    "        \n",
    "        # n = rho conv w\n",
    "        for MM in range(mini_batch):\n",
    "            for j in range (Nw):\n",
    "                n_array[MM][j] = conv(rho_array[MM],w[j])\n",
    "\n",
    "        # prepare c1,mu,rho0 and rhoML. The ingredients for learning\n",
    "        for MM in range(mini_batch):\n",
    "            c1 = cal_c1(beta,epsilon_array[MM],n_array[MM],w,\n",
    "                        rho_array[MM])\n",
    "            mu_ML=cal_mu_ML(rho_array[MM],c1,Vext_array[MM])\n",
    "            rho0ML_array[MM]=cal_rho0(mu_ML,w,beta,\n",
    "                                      epsilon_array[MM])\n",
    "            rhoML_array[MM] = cal_rho_ML(mu_ML,c1,Vext_array[MM])\n",
    "\n",
    "        \n",
    "        epco_error+=error(rho_array,rhoML_array)\n",
    "        \n",
    "        #dbeta=dJ/dbeta \n",
    "        #in purpose to run all ij, check sysmmetry after training \n",
    "        for i in range(Nw):\n",
    "            for j in range(Nw):\n",
    "                dbeta[i][j] = Dbeta_tot(rhoML_array,rho_array,rho0ML_array\n",
    "                                        ,epsilon_array,n_array,w,i,j)\n",
    "        #shift n \n",
    "        #n[ith rho][ith kernel][position]\n",
    "        #rhow[ith rho][shifted distance][ith kernel][position]\n",
    "        for i in range(mini_batch):\n",
    "            rhow[i]=kernel_rhow(n_array[i],w)\n",
    "            \n",
    "        #dw=dJ/dw \n",
    "        for j in range(Nw):\n",
    "            for p in range(Lw):\n",
    "                dw[j][p]=Dw_tot(rhoML_array,rho_array,rho0ML_array,rhow,j,p,beta,epsilon_array,w)\n",
    "                \n",
    "        #update w and beta \n",
    "        w-=alpha*dw\n",
    "        beta-=alpha*dbeta\n",
    "        # regulation seems dosen't matter\n",
    "        #w *=(1-10**(-14)) \n",
    "        #beta *=(1-10**(-14))\n",
    "    return w,beta,epco_error"
   ]
  },
  {
   "cell_type": "code",
   "execution_count": 25,
   "metadata": {},
   "outputs": [
    {
     "name": "stdout",
     "output_type": "stream",
     "text": [
      "\n"
     ]
    }
   ],
   "source": [
    "## pymp \n",
    "def ML_kernel(seed,w,beta,alpha):\n",
    "### initial array     \n",
    "    np.random.seed(seed)\n",
    "    batch_number=np.arange(batch_size)\n",
    "    np.random.shuffle(batch_number)\n",
    "    \n",
    "    dbeta = pymp.shared.array((beta.shape), dtype='float')\n",
    "    dw = pymp.shared.array((w.shape), dtype='float')\n",
    "    \n",
    "    rhoML_array = pymp.shared.array((mini_batch,N), dtype='float')\n",
    "    rho0ML_array = pymp.shared.array((mini_batch), dtype='float')\n",
    "    n_array = pymp.shared.array((mini_batch,Nw,N), dtype='float')\n",
    "    rhow = pymp.shared.array((mini_batch,Lw,Nw,N), dtype='float')\n",
    "\n",
    "    epco_error = 0\n",
    "    N_minbatch = int(batch_size/mini_batch)\n",
    "    #print(\"AAA\")\n",
    "    for M in range(int(batch_size/mini_batch)):\n",
    "        #print(str(M)+'/'+str(batch_size/mini_batch))\n",
    "        rho_array,Vext_array,epsilon_array,mu_array=load_data (\n",
    "            batch_number[M*mini_batch:(M+1)*mini_batch])\n",
    "        \n",
    "        with pymp.Parallel(num_thread) as p:\n",
    "            for MM in p.range(mini_batch):\n",
    "                for j in range (Nw):\n",
    "                    n_array[MM][j] = conv(rho_array[MM],w[j])\n",
    "\n",
    "        with pymp.Parallel(num_thread) as p:            \n",
    "            for MM in p.range(mini_batch):\n",
    "                c1 = cal_c1(beta,epsilon_array[MM],n_array[MM],w,\n",
    "                            rho_array[MM])\n",
    "                mu_ML=cal_mu_ML(rho_array[MM],c1,Vext_array[MM])\n",
    "                #print(mu_array[MM],mu_ML)\n",
    "                #mu_array[MM]=np.log(np.sum(rho_array[MM])/np.sum(np.exp(-c1-Vext_array[MM])))\n",
    "                rho0ML_array[MM]=cal_rho0(mu_ML,w,beta,\n",
    "                                          epsilon_array[MM])\n",
    "                rhoML_array[MM] = cal_rho_ML(mu_ML,c1,Vext_array[MM])\n",
    "\n",
    "        epco_error+=error(rho_array,rhoML_array)\n",
    "        \n",
    "        #if(np.isnan(epco_error)):\n",
    "        #    return w,beta,epco_error\n",
    "        \n",
    "        with pymp.Parallel(num_thread) as p:            \n",
    "            for i in p.range(Nw):\n",
    "                for j in range(Nw):\n",
    "                    dbeta[i][j] = Dbeta_tot(rhoML_array,rho_array,rho0ML_array\n",
    "                                            ,epsilon_array,n_array,w,i,j)\n",
    "                    #print(dbeta[i][j])\n",
    "        \n",
    "        with pymp.Parallel(num_thread) as p:            \n",
    "            for i in p.range(mini_batch):\n",
    "                rhow[i]=kernel_rhow(n_array[i],w)\n",
    "\n",
    "        with pymp.Parallel(num_thread) as pp:            \n",
    "            for j in pp.range(Nw):\n",
    "                for p in range(Lw):\n",
    "                    dw[j][p]=Dw_tot(rhoML_array,rho_array,rho0ML_array,rhow,j,p,beta,epsilon_array,w)\n",
    "        w-=alpha*dw\n",
    "        beta-=alpha*dbeta\n",
    "        #w *=(1-10**(-14)) \n",
    "        #beta *=(1-10**(-14))\n",
    "    return w,beta,epco_error\n",
    "print()"
   ]
  },
  {
   "cell_type": "code",
   "execution_count": 26,
   "metadata": {},
   "outputs": [],
   "source": [
    "def save_data(w,beta,error_array):\n",
    "    \n",
    "    \"\"\"save kernel results\"\"\"\n",
    "    np.savetxt(r\"./ML_data/epco_error_sq.txt\",error_array)\n",
    "    np.savetxt(r\"./ML_data/w_kernel_sq.txt\",w)\n",
    "    np.savetxt(r\"./ML_data/beta_kernel_sq.txt\",beta)\n",
    "    \n",
    "    f = open('./ML_data/parameter_kernel_sq.txt', 'w')\n",
    "    f.write(str(dx))\n",
    "    f.write(\"\\n\")\n",
    "    f.write(str(Lw))\n",
    "    f.write(\"\\n\")\n",
    "    f.write(str(Nw))\n",
    "    f.write(\"\\n\")\n",
    "    f.close()\n",
    "    \"\"\"save done\"\"\""
   ]
  },
  {
   "cell_type": "code",
   "execution_count": 27,
   "metadata": {},
   "outputs": [
    {
     "name": "stdout",
     "output_type": "stream",
     "text": [
      "0 110.05035921174789 0.01\n",
      "1 110.05031287453706 0.01\n",
      "2 110.05026809297142 0.01\n",
      "3 110.05022476974415 0.01\n",
      "4 110.0501826777382 0.01\n",
      "5 110.05014165190352 0.01\n",
      "6 110.05010145270663 0.01\n",
      "7 110.05006194102627 0.01\n",
      "8 110.05002301114796 0.01\n",
      "9 110.04998444752496 0.01\n",
      "10 110.04994615181457 0.01\n",
      "11 110.04990792159053 0.01\n",
      "12 110.04986956738625 0.01\n",
      "13 110.04983106187326 0.01\n",
      "14 110.04979221304053 0.01\n",
      "15 110.04975296089819 0.01\n",
      "16 110.04971284617642 0.01\n",
      "17 110.04967202083233 0.01\n",
      "18 110.04963025961895 0.01\n",
      "19 110.04958730282988 0.01\n",
      "20 110.04954305111808 0.01\n",
      "21 110.04949720670936 0.01\n",
      "22 110.04944962784731 0.01\n",
      "23 110.0494000542552 0.01\n",
      "24 110.04934831800097 0.01\n",
      "25 110.04929397413714 0.01\n",
      "26 110.04923684908621 0.01\n",
      "27 110.04917661383791 0.01\n",
      "28 110.04911283463613 0.01\n",
      "29 110.04904508422436 0.01\n",
      "30 110.04897294381271 0.01\n",
      "31 110.04889604544246 0.01\n",
      "32 110.04881352342855 0.01\n",
      "33 110.04872482198242 0.01\n",
      "34 110.04862946170317 0.01\n",
      "35 110.04852614634325 0.01\n",
      "36 110.04841413622631 0.01\n",
      "37 110.0482923473468 0.01\n",
      "38 110.04815950459263 0.01\n",
      "39 110.04801399449155 0.01\n",
      "40 110.04785429309108 0.01\n",
      "41 110.04767852478864 0.01\n",
      "42 110.04748397751906 0.01\n",
      "43 110.04726811717131 0.01\n",
      "44 110.04702783559351 0.01\n",
      "45 110.04675925006042 0.01\n",
      "46 110.04645724174425 0.01\n",
      "47 110.04611772137854 0.01\n",
      "48 110.0457327347214 0.01\n",
      "49 110.04529551898828 0.01\n",
      "50 110.04479526957228 0.01\n",
      "51 110.0442203282562 0.01\n",
      "52 110.04355644955483 0.01\n",
      "53 110.0427856829555 0.01\n",
      "54 110.0418831989089 0.01\n",
      "55 110.04082451679044 0.01\n",
      "56 110.03956155224995 0.01\n",
      "57 110.0380566249081 0.01\n",
      "58 110.0362421087317 0.01\n",
      "59 110.03402699652354 0.01\n",
      "60 110.03130791582517 0.01\n",
      "61 110.02792699214548 0.01\n",
      "62 110.02365726713909 0.01\n",
      "63 110.01819841961044 0.01\n",
      "64 110.01110543687827 0.01\n",
      "65 110.00170776596444 0.01\n",
      "66 109.98898317202648 0.01\n",
      "67 109.97138661728265 0.01\n",
      "68 109.94621081285706 0.01\n",
      "69 109.90911029428831 0.01\n",
      "70 109.85182445816545 0.01\n",
      "71 109.7588539283473 0.01\n",
      "72 109.59853892742592 0.01\n",
      "73 109.29363397162201 0.01\n",
      "74 108.64865780498506 0.01\n",
      "75 107.02868774352719 0.01\n",
      "76 101.82742885968935 0.01\n",
      "77 80.45601581301318 0.01\n",
      "78 35.350565002504695 0.01\n",
      "79 23.97611610711559 0.01\n",
      "80 22.065703763813048 0.01\n",
      "81 20.128545857273828 0.01\n",
      "82 18.09408610531577 0.01\n",
      "83 15.97398681316715 0.01\n",
      "84 13.798974958136725 0.01\n",
      "85 11.667605597703531 0.01\n",
      "86 9.682776016028033 0.01\n",
      "87 7.977303479878945 0.01\n",
      "88 6.629745664573649 0.01\n",
      "89 5.676981891824077 0.01\n",
      "90 5.057743075484003 0.01\n",
      "91 4.681390257613302 0.01\n",
      "92 4.462228318690534 0.01\n",
      "93 4.315991089853919 0.01\n",
      "94 4.216321597485608 0.01\n",
      "95 4.136202780853981 0.01\n",
      "96 4.0649502363567285 0.01\n",
      "97 4.00049720669751 0.01\n",
      "98 3.93270397770212 0.01\n",
      "99 3.8685293436052746 0.01\n",
      "100 3.807879710427397 0.01\n",
      "101 3.7497751779153994 0.01\n",
      "102 3.690545038290099 0.01\n",
      "103 3.6330738411238883 0.01\n",
      "104 3.576479218658281 0.01\n",
      "105 3.521402483223177 0.01\n",
      "106 3.470986483551657 0.01\n",
      "107 3.414029631013379 0.01\n",
      "108 3.3686591809378337 0.01\n",
      "109 3.316988747118164 0.01\n",
      "110 3.264919547901577 0.01\n",
      "111 3.216595415996104 0.01\n",
      "112 3.18196191130803 0.01\n",
      "113 3.130470401775707 0.01\n",
      "114 3.085490716831009 0.01\n",
      "115 3.041692500365016 0.01\n",
      "116 3.0019315920159704 0.01\n",
      "117 2.9683440277901796 0.01\n",
      "118 2.927069760916849 0.01\n",
      "119 2.888373313692972 0.01\n",
      "120 2.8547284276619775 0.01\n",
      "121 2.8232827881387568 0.01\n",
      "122 2.789442409629449 0.01\n",
      "123 2.7635276207473494 0.01\n",
      "124 2.7310534201899923 0.01\n",
      "125 2.703771687291869 0.01\n",
      "126 2.680939174754084 0.01\n",
      "127 2.654291422969427 0.01\n",
      "128 2.629712117215375 0.01\n",
      "129 2.6072252600763797 0.01\n",
      "130 2.584247727442446 0.01\n",
      "131 2.566002138898667 0.01\n",
      "132 2.5471816384905868 0.01\n",
      "133 2.530437188095363 0.01\n",
      "134 2.5133323712019164 0.01\n",
      "135 2.498586782206307 0.01\n",
      "136 2.4844659502006103 0.01\n",
      "137 2.4697548108989866 0.01\n",
      "138 2.458267156609419 0.01\n",
      "139 2.447790280181081 0.01\n",
      "140 2.436659018253657 0.01\n",
      "141 2.425974426821901 0.01\n",
      "142 2.41709323366536 0.01\n",
      "143 2.4125998509538067 0.01\n",
      "144 2.4041384769162804 0.01\n",
      "145 2.3931073324224146 0.01\n",
      "146 2.3864631671815215 0.01\n",
      "147 2.3807645674642295 0.01\n",
      "148 2.377536271320068 0.01\n",
      "149 2.3705577468660857 0.01\n",
      "150 2.367030692980449 0.01\n",
      "151 2.361615529115965 0.01\n",
      "152 2.3590741753564446 0.01\n",
      "153 2.3531143452666874 0.01\n",
      "154 2.3487545034168993 0.01\n",
      "155 2.3477218495819487 0.01\n",
      "156 2.344667259358195 0.01\n",
      "157 2.3423556567976362 0.01\n",
      "alpha= 0.005\n",
      "158 2.342450670881037 0.005\n",
      "159 2.33838617893778 0.005\n",
      "160 2.338048253878857 0.005\n",
      "161 2.3354596624141557 0.005\n",
      "162 2.334354120422693 0.005\n",
      "163 2.3336802001016475 0.005\n",
      "164 2.3332357270375415 0.005\n",
      "165 2.3325403907866913 0.005\n",
      "166 2.3307048570590325 0.005\n",
      "alpha= 0.0025\n",
      "167 2.3319032758864253 0.0025\n",
      "168 2.329614515450599 0.0025\n",
      "169 2.3292012254246615 0.0025\n",
      "170 2.328680610564351 0.0025\n",
      "171 2.3284358780228387 0.0025\n",
      "172 2.328320185577706 0.0025\n",
      "173 2.328234570505435 0.0025\n",
      "174 2.32764867735676 0.0025\n",
      "175 2.326915917024137 0.0025\n",
      "alpha= 0.00125\n",
      "176 2.326980963754603 0.00125\n",
      "177 2.326562481257806 0.00125\n",
      "178 2.326337994204517 0.00125\n",
      "alpha= 0.000625\n",
      "179 2.3264410971560885 0.000625\n",
      "180 2.326080715342172 0.000625\n",
      "181 2.3259502147932376 0.000625\n",
      "182 2.3259031755871895 0.000625\n",
      "183 2.325828765180361 0.000625\n",
      "184 2.3258280639500115 0.000625\n",
      "185 2.3256033298344163 0.000625\n",
      "186 2.325586667774956 0.000625\n",
      "187 2.3254825029777946 0.000625\n",
      "188 2.325411873939436 0.000625\n",
      "alpha= 0.0003125\n",
      "189 2.3255193359441972 0.0003125\n",
      "190 2.3253097781405083 0.0003125\n",
      "191 2.325256875178125 0.0003125\n",
      "alpha= 0.00015625\n",
      "192 2.325259867948637 0.00015625\n",
      "193 2.3251917378744897 0.00015625\n",
      "194 2.3251752003351767 0.00015625\n",
      "195 2.325133213968256 0.00015625\n",
      "196 2.325132607261212 0.00015625\n",
      "197 2.3250965743305785 0.00015625\n",
      "198 2.3250947360162284 0.00015625\n",
      "alpha= 7.8125e-05\n",
      "199 2.325102672397643 7.8125e-05\n",
      "200 2.325061918023776 7.8125e-05\n",
      "201 2.325043787308131 7.8125e-05\n",
      "alpha= 3.90625e-05\n",
      "202 2.3250501388141593 3.90625e-05\n",
      "203 2.325024803916646 3.90625e-05\n",
      "204 2.325020780386123 3.90625e-05\n",
      "alpha= 1.953125e-05\n",
      "205 2.32502280894977 1.953125e-05\n",
      "206 2.3250129966574784 1.953125e-05\n",
      "alpha= 9.765625e-06\n",
      "207 2.3250142411114223 9.765625e-06\n",
      "208 2.3250064249753564 9.765625e-06\n",
      "209 2.325004298987158 9.765625e-06\n",
      "210 2.325003864217295 9.765625e-06\n",
      "211 2.3250022510741886 9.765625e-06\n",
      "alpha= 4.8828125e-06\n",
      "212 2.325004428877896 4.8828125e-06\n",
      "213 2.325000515158629 4.8828125e-06\n",
      "alpha= 2.44140625e-06\n",
      "214 2.325000581589707 2.44140625e-06\n",
      "215 2.3249993751621805 2.44140625e-06\n",
      "216 2.324998687468042 2.44140625e-06\n",
      "alpha= 1.220703125e-06\n",
      "217 2.3249987876780023 1.220703125e-06\n",
      "218 2.3249981038839236 1.220703125e-06\n",
      "alpha= 6.103515625e-07\n",
      "219 2.3249982058852545 6.103515625e-07\n",
      "elapse=\t3849.9121792840015\n"
     ]
    }
   ],
   "source": [
    "np.random.seed(10)\n",
    "w = np.zeros(Nw*Lw)\n",
    "beta = np.zeros(Nw**2)\n",
    "w,beta=initial_kernel()\n",
    "\n",
    "w0=np.copy(w)\n",
    "beta0=np.copy(beta)\n",
    "\n",
    "error_array=np.empty(0)\n",
    "alpha = 0.01 #learning rate\n",
    "start_time = timer()\n",
    "\n",
    "for i in range(10000):\n",
    "\n",
    "    w0=np.copy(w)\n",
    "    beta0=np.copy(beta)\n",
    "    w,beta,epco_error=ML_kernel(i,w,beta,alpha)\n",
    "    #w,beta,epco_error=ML_kernel_single(i,w,beta,alpha)\n",
    "    error_array=np.append(error_array, epco_error)\n",
    "    \n",
    "    # stop if learning rate < threshold or diverge\n",
    "    if(alpha<10**-6 or np.isnan(epco_error)):\n",
    "        break\n",
    "    \n",
    "    # reduce learning rate if epoch increase  \n",
    "    if((epco_error>error_array[i-1] or np.isinf(epco_error))and i>0):\n",
    "        alpha/=2.0\n",
    "        print(\"alpha=\",alpha)\n",
    "\n",
    "    save_data(w,beta,error_array)\n",
    "    print(i,epco_error,alpha)\n",
    "end_time = timer()\n",
    "print(\"elapse=\"+'\\t'+str(end_time-start_time))\n",
    "save_data(w,beta,error_array)\n"
   ]
  },
  {
   "cell_type": "code",
   "execution_count": 28,
   "metadata": {},
   "outputs": [
    {
     "data": {
      "text/plain": [
       "5.128691256592447e-32"
      ]
     },
     "execution_count": 28,
     "metadata": {},
     "output_type": "execute_result"
    }
   ],
   "source": [
    "np.sum((beta-beta.T)**2)"
   ]
  },
  {
   "cell_type": "code",
   "execution_count": 29,
   "metadata": {},
   "outputs": [
    {
     "data": {
      "text/plain": [
       "Text(0.5, 0, 'x($\\\\sigma$)')"
      ]
     },
     "execution_count": 29,
     "metadata": {},
     "output_type": "execute_result"
    },
    {
     "data": {
      "image/png": "[encoded data removed]",
      "text/plain": [
       "<Figure size 432x288 with 1 Axes>"
      ]
     },
     "metadata": {
      "needs_background": "light"
     },
     "output_type": "display_data"
    }
   ],
   "source": [
    "x = np.linspace(-LLw,LLw,Lw)*dx\n",
    "for j in range (Nw):\n",
    "    plt.plot(x,w[j],label=\"w\"+str(j))\n",
    "#plt.title(\"w\")\n",
    "plt.ylabel(\"w(x)\",size=30)\n",
    "plt.xlabel(\"x($\\sigma$)\",size=30)\n",
    "#plt.legend() \n"
   ]
  },
  {
   "cell_type": "code",
   "execution_count": 30,
   "metadata": {},
   "outputs": [
    {
     "data": {
      "text/plain": [
       "[<matplotlib.lines.Line2D at 0x7fa68391d710>]"
      ]
     },
     "execution_count": 30,
     "metadata": {},
     "output_type": "execute_result"
    },
    {
     "data": {
      "image/png": "[encoded data removed]",
      "text/plain": [
       "<Figure size 432x288 with 1 Axes>"
      ]
     },
     "metadata": {
      "needs_background": "light"
     },
     "output_type": "display_data"
    }
   ],
   "source": [
    "plt.semilogy(error_array)"
   ]
  },
  {
   "cell_type": "code",
   "execution_count": 31,
   "metadata": {},
   "outputs": [],
   "source": [
    "save_data(w,beta,error_array)"
   ]
  },
  {
   "cell_type": "code",
   "execution_count": 32,
   "metadata": {},
   "outputs": [
    {
     "name": "stdout",
     "output_type": "stream",
     "text": [
      "\n"
     ]
    }
   ],
   "source": [
    "# check dJ/dw ~ (J[w+d]-J[w])/d\n",
    "'''\n",
    "np.random.seed(0)\n",
    "batch_number=np.arange(batch_size)\n",
    "np.random.shuffle(batch_number)\n",
    "dbeta = np.zeros((beta.shape))\n",
    "dw = np.zeros((w.shape))\n",
    "\n",
    "rhoML_array = np.zeros((mini_batch,N))\n",
    "rho0ML_array = np.zeros((mini_batch))\n",
    "n_array = np.zeros([mini_batch,Nw,N])\n",
    "rhow = np.zeros((mini_batch,Lw,Nw,N))\n",
    "\n",
    "epco_error = 0\n",
    "N_minbatch = int(batch_size/mini_batch)\n",
    "#print(\"AAA\")\n",
    "for M in range(1):\n",
    "    print(str(M)+'/'+str(batch_size/mini_batch))\n",
    "    rho_array,Vext_array,epsilon_array,mu_array=load_data (\n",
    "        batch_number[M*mini_batch:(M+1)*mini_batch])\n",
    "\n",
    "    for MM in range(mini_batch):\n",
    "        for j in range (Nw):\n",
    "            n_array[MM][j] = conv(rho_array[MM],w[j])\n",
    "\n",
    "    for MM in range(mini_batch):\n",
    "        c1 = cal_c1(beta,epsilon_array[MM],n_array[MM],w,\n",
    "                    rho_array[MM])\n",
    "        mu_ML=cal_mu_ML(rho_array[MM],c1,Vext_array[MM])\n",
    "        rho0ML_array[MM]=cal_rho0(mu_ML,w,beta,\n",
    "                                  epsilon_array[MM])\n",
    "        rhoML_array[MM] = cal_rho_ML(mu_ML,c1,Vext_array[MM])\n",
    "\n",
    "    epco_error=error(rho_array,rhoML_array)\n",
    "\n",
    "    w_new=np.copy(w)\n",
    "    delta=10**(-5)\n",
    "    w_new[0][0]+=delta\n",
    "    \n",
    "    for MM in range(mini_batch):\n",
    "        for j in range (Nw):\n",
    "            n_array[MM][j] = conv(rho_array[MM],w_new[j])\n",
    "\n",
    "    for MM in range(mini_batch):\n",
    "        c1 = cal_c1(beta,epsilon_array[MM],n_array[MM],w_new,\n",
    "                    rho_array[MM])\n",
    "        mu_ML=cal_mu_ML(rho_array[MM],c1,Vext_array[MM])\n",
    "        #print(mu_array[MM],mu_ML)\n",
    "        #mu_array[MM]=np.log(np.sum(rho_array[MM])/np.sum(np.exp(-c1-Vext_array[MM])))\n",
    "        rho0ML_array[MM]=cal_rho0(mu_ML,w_new,beta,\n",
    "                                  epsilon_array[MM])\n",
    "        rhoML_array[MM] = cal_rho_ML(mu_ML,c1,Vext_array[MM])\n",
    "\n",
    "    epco_error_new=error(rho_array,rhoML_array)\n",
    "    \n",
    "    for i in range(Nw):\n",
    "        for j in range(Nw):\n",
    "            dbeta[i][j] = Dbeta_tot(rhoML_array,rho_array,rho0ML_array\n",
    "                                    ,epsilon_array,n_array,w,i,j)\n",
    "            #print(dbeta[i][j])\n",
    "\n",
    "    for i in range(mini_batch):\n",
    "        rhow[i]=kernel_rhow(n_array[i],w)\n",
    "\n",
    "    for j in range(Nw):\n",
    "        for p in range(Lw):\n",
    "            dw[j][p]=Dw_tot(rhoML_array,rho_array,rho0ML_array,rhow,j,p,beta,epsilon_array,w)\n",
    "    print( (epco_error_new- epco_error)/delta,dw[0][0])\n",
    "'''\n",
    "print()"
   ]
  },
  {
   "cell_type": "code",
   "execution_count": null,
   "metadata": {},
   "outputs": [],
   "source": []
  }
 ],
 "metadata": {
  "kernelspec": {
   "display_name": "Python 3",
   "language": "python",
   "name": "python3"
  },
  "language_info": {
   "codemirror_mode": {
    "name": "ipython",
    "version": 3
   },
   "file_extension": ".py",
   "mimetype": "text/x-python",
   "name": "python",
   "nbconvert_exporter": "python",
   "pygments_lexer": "ipython3",
   "version": "3.7.1"
  }
 },
 "nbformat": 4,
 "nbformat_minor": 2
}
