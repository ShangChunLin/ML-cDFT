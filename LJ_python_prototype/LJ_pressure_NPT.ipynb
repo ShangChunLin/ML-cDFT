{
 "cells": [
  {
   "cell_type": "markdown",
   "metadata": {},
   "source": [
    "# NPT  ensumble for equation of state \n",
    "\n",
    "http://www.fhi-berlin.mpg.de/~luca/Course_TU/02_Metropolis_MonteCarlo.pdf"
   ]
  },
  {
   "cell_type": "code",
   "execution_count": 1,
   "metadata": {},
   "outputs": [],
   "source": [
    "import numpy as np \n",
    "import math\n",
    "%matplotlib inline \n",
    "import matplotlib\n",
    "import matplotlib.pyplot as plt\n",
    "\n",
    "from numba import jit"
   ]
  },
  {
   "cell_type": "code",
   "execution_count": 2,
   "metadata": {},
   "outputs": [],
   "source": [
    "sigma   = 1\n",
    "L =  100\n",
    "npart = 32\n",
    "pressure = 1\n",
    "dL_max = 0.1\n",
    "dx = 1.0/16\n",
    "halfL = L/2\n",
    "\n",
    "#z=1 #exp(mu)"
   ]
  },
  {
   "cell_type": "code",
   "execution_count": 3,
   "metadata": {},
   "outputs": [],
   "source": [
    "# Some helper functions\n",
    "@jit\n",
    "def wrap(particle):\n",
    "    '''Apply perodic boundary conditions.'''\n",
    "    if particle >= L:\n",
    "        particle -= L\n",
    "    elif particle < 0:\n",
    "        particle += L\n",
    "    return particle"
   ]
  },
  {
   "cell_type": "code",
   "execution_count": 4,
   "metadata": {},
   "outputs": [],
   "source": [
    "@jit\n",
    "def Vext_cal(x,a,b,c):\n",
    "    V=0\n",
    "    return V    "
   ]
  },
  {
   "cell_type": "code",
   "execution_count": 5,
   "metadata": {},
   "outputs": [
    {
     "name": "stderr",
     "output_type": "stream",
     "text": [
      "/home/sam/anaconda3/lib/python3.6/site-packages/ipykernel_launcher.py:1: DeprecationWarning: object of type <class 'float'> cannot be safely interpreted as an integer.\n",
      "  \"\"\"Entry point for launching an IPython kernel.\n"
     ]
    },
    {
     "data": {
      "text/plain": [
       "[<matplotlib.lines.Line2D at 0x7fe6fea2d9e8>]"
      ]
     },
     "execution_count": 5,
     "metadata": {},
     "output_type": "execute_result"
    },
    {
     "data": {
      "image/png": "[encoded data removed]",
      "text/plain": [
       "<Figure size 432x288 with 1 Axes>"
      ]
     },
     "metadata": {},
     "output_type": "display_data"
    }
   ],
   "source": [
    "x= np.linspace(0,L,32//dx)\n",
    "Vext = np.zeros(int(32/dx))\n",
    "for i in range (int(32/dx)):\n",
    "    Vext[i]=Vext_cal(i*L/32*dx,1,L/4,3)\n",
    "plt.plot(x,Vext)\n"
   ]
  },
  {
   "cell_type": "code",
   "execution_count": 6,
   "metadata": {},
   "outputs": [],
   "source": [
    "@jit\n",
    "def distancesq(x1, x2,L):\n",
    "    '''Gets the squared distance between two particles, applying the minimum image convention.'''\n",
    "    # Calculate distances\n",
    "    Dx = np.abs(x1-x2)\n",
    "    if Dx > L/2:\n",
    "        Dx -= L\n",
    "    return Dx**2"
   ]
  },
  {
   "cell_type": "code",
   "execution_count": 7,
   "metadata": {},
   "outputs": [],
   "source": [
    "@jit\n",
    "def energy(particles,epsilon,a,b,c,L):\n",
    "    '''Gets the energy of the system'''\n",
    "    energy = 0.\n",
    "    \n",
    "    for i in range(npart):\n",
    "        for j in range(npart):\n",
    "            if(i!=j):\n",
    "                dist = distancesq(particles[i], particles[j],L)\n",
    "                if(dist**0.5<16):\n",
    "                    energy += 4.*epsilon*((1/dist**6)-(1/dist**3))\n",
    "                if(dist<1):\n",
    "                    return 10**8\n",
    "    energy/=2\n",
    "    \n",
    "    for i in range(npart):\n",
    "        energy+=Vext_cal(particles[i],a,b,c)\n",
    "    \n",
    "    return energy "
   ]
  },
  {
   "cell_type": "code",
   "execution_count": 8,
   "metadata": {},
   "outputs": [],
   "source": [
    "@jit\n",
    "def particleEnergy(particle,p,particles,epsilon,a,b,c,L):\n",
    "    '''Gets the energy of a single particle.'''\n",
    "    part_energy = 0.\n",
    "    \n",
    "    for i in range(npart):\n",
    "        if(i!=p):\n",
    "            dist = distancesq(particle, particles[i],L)\n",
    "            if(dist**0.5<16):\n",
    "                part_energy += 4*epsilon*((1/dist**6)-(1/dist**3))\n",
    "            if(dist<1):\n",
    "                return 10**8\n",
    "    \n",
    "    part_energy+=Vext_cal(particle,a,b,c)\n",
    "    \n",
    "    return part_energy"
   ]
  },
  {
   "cell_type": "code",
   "execution_count": 9,
   "metadata": {},
   "outputs": [],
   "source": [
    "# Initialize the simulation box:\n",
    "@jit\n",
    "def initial(L):\n",
    "    particles = np.zeros(npart)\n",
    "    \n",
    "    for i in range(npart):\n",
    "        x_coord = np.random.uniform(0, L)\n",
    "        particles[i]=i*L/npart\n",
    "        #prop = random.uniform(0, 1)\n",
    "        #if(prop>=0.5):\n",
    "        #    exist[i]=1\n",
    "    return particles"
   ]
  },
  {
   "cell_type": "code",
   "execution_count": null,
   "metadata": {},
   "outputs": [],
   "source": []
  },
  {
   "cell_type": "code",
   "execution_count": 10,
   "metadata": {},
   "outputs": [],
   "source": [
    "@jit\n",
    "def MC_step(particles,L,pressure,steps,eps,a,b,c,Print=True):\n",
    "    for step in range(0, steps):\n",
    "        prop = np.random.uniform(0, 1)#volumn or move\n",
    "        if (prop*(npart+1) + 1 < npart):\n",
    "            for i in range(npart):\n",
    "                # Move particle and evaluate energy\n",
    "                this_particle = np.copy(particles[i])\n",
    "                prev_E = particleEnergy(this_particle,i, particles, eps,a,b,c,L)\n",
    "                this_particle =np.random.uniform(0, L)\n",
    "                new_E =  particleEnergy(this_particle,i, particles, eps,a,b,c,L)\n",
    "                deltaE = new_E - prev_E\n",
    "                rand = np.random.uniform(0,1)\n",
    "                #if(deltaE<10**3):\n",
    "                if (np.exp(-deltaE) > rand):\n",
    "                    particles[i] = this_particle\n",
    "                \n",
    "        else:\n",
    "            oldL =  L\n",
    "            rand = np.random.uniform(-0.5, 0.5)\n",
    "            #Suggest a random volume by preforming a random walk in lnV.\n",
    "            lnLTrial = np.log(oldL*(1+rand*dL_max)) \n",
    "            LTrial = np.exp(lnLTrial)\n",
    "            newL = LTrial\n",
    "            coordsTrial = particles*(newL/oldL)\n",
    "            energy_old = energy(particles,eps,a,b,c,oldL)\n",
    "            energy_new = energy(coordsTrial,eps,a,b,c,newL)\n",
    "            weight=(energy_new - energy_old) + pressure*(newL - oldL) - (npart+1)*np.log(newL/oldL)\n",
    "            \n",
    "            rand = np.random.uniform(0, 1)\n",
    "            #if(weight<10**3):\n",
    "            if (rand < np.exp(-weight)):\n",
    "                L = newL\n",
    "                particles*=(newL/oldL)\n",
    "                if(L<npart):\n",
    "                    print(particles,L)\n",
    "    return particles,energy(particles,eps,a,b,c,L),L"
   ]
  },
  {
   "cell_type": "code",
   "execution_count": 11,
   "metadata": {},
   "outputs": [],
   "source": [
    "@jit\n",
    "def MC_result(seed,L,pressure,eps,a,b,c):\n",
    "    np.random.seed(seed)\n",
    "    particles = initial(L)\n",
    "    \"warm up\"\n",
    "    particles, ene ,L= MC_step(particles,L,pressure,10**5,eps,a,b,c) # better > 10**5\n",
    "    print(\"WARM UP\",ene,L)\n",
    "    avg_step = 10**4 # better > 10**4\n",
    "    ene_array = np.zeros(0)\n",
    "    L_array = np.zeros(0)\n",
    "    ene_array=np.append(ene_array,energy)\n",
    "    L_array=np.append(L_array,L)\n",
    "    for i in range(avg_step-1):\n",
    "        np.random.seed(i)\n",
    "        particles, ene,L = MC_step(particles,L,pressure,1024,eps,a,b,c,Print=False)\n",
    "        ene_array=np.append(ene_array,ene)\n",
    "        L_array=np.append(L_array,L)\n",
    "        #rho += density_cal(particles)\n",
    "\n",
    "        if(i%1000==0):\n",
    "            print(i,ene,L)\n",
    "    #rho=rho/avg_step\n",
    "    #print(\"energy_avg\",np.sum(ene_array)/len(ene_array),\n",
    "    #      np.sum(L_array)/len(L_array))\n",
    "    return particles,ene_array,L_array\n",
    "\n",
    "\n",
    "def density_result(seed,L,pressure,eps):\n",
    "    \"\"\"\n",
    "    density = random.uniform(0.3,0.5)\n",
    "    a=random.uniform(1,3)\n",
    "    b=random.uniform(0,1)\n",
    "    c=random.uniform(1,L/8)\n",
    "    \"\"\"\n",
    "    a=0\n",
    "    b=0\n",
    "    c=0\n",
    "    particles,energy,L_array = MC_result(seed,L,pressure,eps,a,b,c)\n",
    "    return particles,energy,L_array"
   ]
  },
  {
   "cell_type": "code",
   "execution_count": 12,
   "metadata": {},
   "outputs": [
    {
     "name": "stdout",
     "output_type": "stream",
     "text": [
      "0 / 20\n",
      "WARM UP -0.10593191302774478 3105.1899293846595\n",
      "0 -0.6306963779746114 2804.081889972299\n",
      "1000 -0.08549037587656175 2804.0573157678014\n",
      "2000 -0.06317274493050999 3360.7834722390226\n",
      "3000 -0.0017672589868192728 3471.1308538319918\n",
      "4000 -2.7804138169213246 2660.1925681127873\n",
      "5000 -2.3139525623061363 4426.143344575721\n",
      "6000 -1.0412748977119726 3313.128568872961\n",
      "7000 -0.4322782791144146 4297.40600572677\n",
      "8000 -1.3932108259714089 2032.639142839701\n",
      "9000 -1.1118155334395236e-05 4362.444764636256\n",
      "1 / 20\n",
      "WARM UP -14.481535229926614 103.33849649961728\n",
      "0 -16.530052784916812 76.82577394858046\n",
      "1000 -13.20142448538874 94.12003581271095\n",
      "2000 -20.162470502752466 91.96930797985381\n",
      "3000 -13.387284803496529 101.86184368027773\n",
      "4000 -15.040674999282956 77.37586872038031\n",
      "5000 -14.937689656452573 96.42667472475517\n",
      "6000 -11.530979820967074 84.17358542765929\n",
      "7000 -12.813060519431858 108.22221262141926\n",
      "8000 -19.500845363018986 79.49763975712071\n",
      "9000 -11.785445477901286 117.10352669070397\n",
      "2 / 20\n",
      "WARM UP -16.68310655162062 62.85054411397216\n",
      "0 -26.08167971412549 55.80473140670287\n",
      "1000 -24.276956836254932 54.050589300852955\n",
      "2000 -19.971076987332037 60.81579122753312\n",
      "3000 -19.529933565895128 62.02536438171107\n",
      "4000 -28.48185675658059 49.86549928379105\n",
      "5000 -23.227054754230746 66.68934280248554\n",
      "6000 -21.617302938674385 62.610169625555166\n",
      "7000 -23.292559068172526 71.42692859098175\n",
      "8000 -23.261370050059796 54.12714950221854\n",
      "9000 -23.164603595984545 71.61888370256646\n",
      "3 / 20\n",
      "WARM UP -26.41758901715851 47.9202081267735\n",
      "0 -26.643486162012845 46.50340408796275\n",
      "1000 -29.29997542385994 45.0229474242312\n",
      "2000 -30.561689794314518 44.45938597521303\n",
      "3000 -29.434915271877504 45.02981767134327\n",
      "4000 -36.13831009823567 40.009172250763875\n",
      "5000 -22.63404218212586 56.064238037461166\n",
      "6000 -22.717171626391707 50.22139470374485\n",
      "7000 -30.034285681355122 47.56357802563296\n",
      "8000 -32.2812396887454 43.055594446832615\n",
      "9000 -19.662964896476545 59.82813543861591\n",
      "4 / 20\n",
      "WARM UP -32.852552273755215 44.00999318950723\n",
      "0 -30.04864594247376 43.043598461319554\n",
      "1000 -35.77018229988912 39.33924869696488\n",
      "2000 -30.843531156022518 43.346166994701534\n",
      "3000 -26.29126500970292 48.63578082261406\n",
      "4000 -38.19616716039663 39.205024556859925\n",
      "5000 -32.17254813918004 46.12568256921248\n",
      "6000 -29.593200795761906 44.43066471050513\n",
      "7000 -31.340707451835264 46.694237112284746\n",
      "8000 -35.20465746804419 41.19509474006878\n",
      "9000 -25.03415962208734 49.18376206094344\n",
      "5 / 20\n",
      "WARM UP -33.23246292440869 41.17310796615631\n",
      "0 -34.49175517032175 41.393011171847455\n",
      "1000 -29.95774169371764 41.77651188674211\n",
      "2000 -32.73292639558324 42.831852627662414\n",
      "3000 -30.26390039325315 42.47513671663431\n",
      "4000 -37.05921214942948 38.569934218814\n",
      "5000 -31.68753641589744 44.0310651502105\n",
      "6000 -33.88260639359038 41.565442432105506\n",
      "7000 -30.017181100169978 44.7103530889175\n",
      "8000 -32.32025844775132 40.42766412804144\n",
      "9000 -28.212786036649913 46.74388496602581\n",
      "6 / 20\n",
      "WARM UP -33.63135203206187 41.80101490986876\n",
      "0 -36.1547660831932 40.289045457576115\n",
      "1000 -37.15794802046943 40.11862404456097\n",
      "2000 -34.14854438761617 42.12829388359847\n",
      "3000 -33.16780011045315 42.95550051270414\n",
      "4000 -38.62794706924417 38.21563380841631\n",
      "5000 -35.740042664173174 40.60275375114993\n",
      "6000 -35.815345146804205 40.5411423827032\n",
      "7000 -35.08453458341614 38.85606829120192\n",
      "8000 -34.72658707147369 39.7764484294068\n",
      "9000 -33.96417861277787 41.80242619763664\n",
      "7 / 20\n",
      "WARM UP -37.1888333299605 39.64611944825008\n",
      "0 -38.095673104542826 38.23329905775166\n",
      "1000 -35.732928441965775 38.74495153374242\n",
      "2000 -32.28760544215899 41.1028737458195\n",
      "3000 -34.583847674127604 42.0599728877742\n",
      "4000 -34.08236059999267 39.483208668817205\n",
      "5000 -37.336408917417884 38.64202055961178\n",
      "6000 -34.131554945061374 41.392607443959875\n",
      "7000 -35.447095822686116 40.93474970377356\n",
      "8000 -40.18372265567771 38.64364471313268\n",
      "9000 -34.35083597250492 41.01340695724789\n",
      "8 / 20\n",
      "WARM UP -40.082301619082855 38.72457591689397\n",
      "0 -39.57065450859849 37.741047851489576\n",
      "1000 -38.888284107308785 38.9604164531385\n",
      "2000 -36.372109500142 38.74984262997432\n",
      "3000 -34.64334705098878 38.547830957272375\n",
      "4000 -33.12864559882973 39.95800876590679\n",
      "5000 -38.48536593585073 39.1552839501178\n",
      "6000 -34.051567631898926 41.27136378095678\n",
      "7000 -40.57407340597494 37.12997155539755\n",
      "8000 -36.62897779854493 40.377655769054876\n",
      "9000 -33.89461921092374 41.63332353771628\n",
      "9 / 20\n",
      "WARM UP -37.45448334287814 38.850951495889575\n",
      "0 -38.22696488408225 39.09904558528123\n",
      "1000 -39.45935829403839 38.01806698293886\n",
      "2000 -32.20615017663468 41.042328971090576\n",
      "3000 -38.03416677854282 40.868980645258645\n",
      "4000 -40.643965889245564 36.87761349302257\n",
      "5000 -35.18703579185051 38.668928508267726\n",
      "6000 -36.81728622119423 39.69691031370642\n",
      "7000 -32.571652830672996 40.514053536614476\n",
      "8000 -38.039598671473215 39.40792716461803\n",
      "9000 -35.693692425583045 39.7207651857844\n",
      "10 / 20\n",
      "WARM UP -40.17960722504034 37.877781700704276\n",
      "0 -39.037147204631296 37.43075270061716\n",
      "1000 -40.564008813144774 36.96229585952677\n",
      "2000 -38.63356058760704 38.36514718079177\n",
      "3000 -38.56205656011705 39.451062644667815\n",
      "4000 -35.80580457692622 37.66530060267521\n",
      "5000 -34.45894391763089 40.74696452174168\n",
      "6000 -34.06653448353501 40.89190351356298\n",
      "7000 -37.962811541395176 37.02259700322115\n",
      "8000 -38.60315037975908 37.663318984982155\n",
      "9000 -35.51524223178926 41.796056702091704\n",
      "11 / 20\n",
      "WARM UP -36.547880018325806 38.071038088624604\n",
      "0 -38.468220994617916 38.1567170952001\n",
      "1000 -37.34305376416553 39.11204525817474\n",
      "2000 -39.82694172765774 37.38543535935569\n",
      "3000 -39.04401383764355 38.13847058479988\n",
      "4000 -41.87394443098521 36.63741949132221\n",
      "5000 -37.397560196632796 39.107264746191795\n",
      "6000 -37.686718721132785 38.87450639761951\n",
      "7000 -36.37555462666885 37.020777965668735\n",
      "8000 -38.676925262180625 36.702956622043594\n",
      "9000 -39.562178848832204 38.83278776110304\n",
      "12 / 20\n",
      "WARM UP -41.40798327494341 36.17700823292998\n",
      "0 -38.67759766618615 37.106453519361565\n",
      "1000 -39.304209393021225 37.0573791601196\n",
      "2000 -38.83220939246878 38.94823896195411\n",
      "3000 -38.96973783465691 38.22959859385059\n",
      "4000 -39.58324650696638 37.32496706994562\n",
      "5000 -35.08843921262775 36.965026701825\n",
      "6000 -38.34746874641793 39.0871709254784\n",
      "7000 -38.31112742160365 37.46271126722432\n",
      "8000 -37.32791287444982 36.995198048583546\n",
      "9000 -35.5719060194158 39.2648540668651\n",
      "13 / 20\n",
      "WARM UP -39.7569115839903 37.37281574312203\n",
      "0 -39.47417245348233 36.83558054077481\n",
      "1000 -38.75359820268201 36.8556522533068\n",
      "2000 -38.67070587363598 37.40678538855501\n",
      "3000 -41.72922564374726 36.79056652876091\n",
      "4000 -36.59760167770762 37.32231207091941\n",
      "5000 -42.05755811275294 37.480897645686014\n",
      "6000 -39.65141450201177 37.94537715074227\n",
      "7000 -36.1655437026108 35.8835235238712\n",
      "8000 -37.57364571982413 36.74160205419304\n",
      "9000 -40.49188002675419 37.14065664226952\n",
      "14 / 20\n",
      "WARM UP -37.93230325000626 37.75532832756003\n",
      "0 -38.49368388051196 35.582979668242785\n",
      "1000 -40.05198012130992 35.73776223134839\n",
      "2000 -40.624626665270476 36.97378020104858\n",
      "3000 -37.88240267578255 37.67739520333842\n",
      "4000 -40.62990342589159 36.040641142659936\n",
      "5000 -41.78104240853679 36.71895457446271\n",
      "6000 -39.1370689947808 38.05871865666832\n",
      "7000 -35.313758324781425 37.95184686152934\n",
      "8000 -39.53726102069646 36.610397161985794\n",
      "9000 -38.211370861465134 36.75233721220969\n",
      "15 / 20\n",
      "WARM UP -38.59709707007356 37.27348508412063\n",
      "0 -39.551954927782724 36.57933054776968\n",
      "1000 -37.792563630808 35.88443578481542\n",
      "2000 -41.6660713890702 36.26311391092154\n",
      "3000 -33.28619367691263 35.35062134887047\n",
      "4000 -43.1566708432905 35.49013287926964\n",
      "5000 -42.33914284311567 36.356187299105144\n",
      "6000 -39.89253707555848 37.169148384353036\n",
      "7000 -38.54499645196121 36.18370171387534\n",
      "8000 -41.89898300813726 36.82327792888848\n",
      "9000 -36.99423797766397 36.98927893590909\n",
      "16 / 20\n",
      "WARM UP -38.4747255193679 35.55879373403897\n",
      "0 -38.49567387252557 35.209643393782976\n",
      "1000 -43.22766904092935 36.11495584370833\n",
      "2000 -39.175521861295756 36.16598523742843\n",
      "3000 -41.25846810849168 36.831872848313374\n",
      "4000 -38.086596782182625 37.158907513949\n",
      "5000 -41.22696655456216 36.371793338688555\n",
      "6000 -39.55283968956184 37.23231069803108\n",
      "7000 -41.939620965014136 36.051268150183965\n",
      "8000 -39.56820880207015 37.09600082238946\n",
      "9000 -41.67583982604133 37.5125833071534\n",
      "17 / 20\n",
      "WARM UP -41.48067741087246 35.69734919204014\n",
      "0 -41.554855392962686 35.81598777077027\n",
      "1000 -39.02655881688201 36.621745609810795\n"
     ]
    },
    {
     "name": "stdout",
     "output_type": "stream",
     "text": [
      "2000 -36.057672136558715 36.544128736095274\n",
      "3000 -43.74372568327268 35.96721790821533\n",
      "4000 -39.9824247001384 35.97035318854386\n",
      "5000 -42.044523482589085 36.798121995426065\n",
      "6000 -39.90119067066698 38.48051399162229\n",
      "7000 -38.20593162570691 37.838257683473344\n",
      "8000 -40.4254202490136 35.848724340306205\n",
      "9000 -41.574981708515026 37.02391620510916\n",
      "18 / 20\n",
      "WARM UP -36.919994981597625 35.08508463613421\n",
      "0 -41.14164763386066 35.170654229414524\n",
      "1000 -41.30174525383547 35.40669304229441\n",
      "2000 -40.98508967518608 35.52793320603315\n",
      "3000 -41.39089158994342 36.14654759606226\n",
      "4000 -39.288107731692556 36.02141876611881\n",
      "5000 -41.977848431090216 35.78861559692325\n",
      "6000 -44.018797712265936 36.02972149115271\n",
      "7000 -38.96469202220783 36.455459592567685\n",
      "8000 -40.776316453197765 35.966698440808614\n",
      "9000 -42.08390079206117 36.48548605390585\n",
      "19 / 20\n",
      "WARM UP -39.947722215955125 35.961910056613824\n",
      "0 -40.82751973013602 36.10643703903267\n",
      "1000 -41.788824279153474 35.56017374278234\n",
      "2000 -39.78899675682947 36.2690391173387\n",
      "3000 -43.088534287052084 36.00672895371247\n",
      "4000 -40.542731396528076 35.437758599897755\n",
      "5000 -40.82656504663248 35.682517441290294\n",
      "6000 -39.8751993897987 35.98684650113164\n",
      "7000 -35.981552456126515 36.0570982579262\n",
      "8000 -41.724875929182176 35.83946659811996\n",
      "9000 -38.49390617353621 36.94218285331883\n"
     ]
    }
   ],
   "source": [
    "N=20\n",
    "#P_array=np.exp(np.linspace(np.log(0.01),np.log(1),N))\n",
    "P_array=np.linspace(0.01,8,N)\n",
    "\n",
    "rho_array=np.zeros(N)\n",
    "eps = 1.5\n",
    "L=npart/np.min(P_array)\n",
    "for i in range (N):\n",
    "    print(i,\"/\",N)\n",
    "    particles,energy_array,L_array=density_result(123,L,P_array[i],eps)\n",
    "    rho_array[i]=npart/np.mean(L_array)\n",
    "    L=np.mean(L_array)\n",
    "    np.savetxt(\"P_rho_eps_\"+str(eps)+\".dat\",np.vstack((P_array,rho_array)))\n"
   ]
  },
  {
   "cell_type": "code",
   "execution_count": 13,
   "metadata": {},
   "outputs": [],
   "source": [
    "np.savetxt(\"P_rho_eps_\"+str(eps)+\".dat\",np.vstack((P_array,rho_array)))"
   ]
  },
  {
   "cell_type": "code",
   "execution_count": 14,
   "metadata": {},
   "outputs": [
    {
     "data": {
      "text/plain": [
       "(array([0.01000463, 0.36623773, 0.55996602, 0.66350858, 0.72301082,\n",
       "        0.76114228, 0.78737706, 0.80625871, 0.82131833, 0.83204421,\n",
       "        0.84106939, 0.8502264 , 0.85648664, 0.86279971, 0.86836449,\n",
       "        0.87262322, 0.87769578, 0.88085218, 0.88521643, 0.88900804]),\n",
       " array([0.01      , 0.43052632, 0.85105263, 1.27157895, 1.69210526,\n",
       "        2.11263158, 2.53315789, 2.95368421, 3.37421053, 3.79473684,\n",
       "        4.21526316, 4.63578947, 5.05631579, 5.47684211, 5.89736842,\n",
       "        6.31789474, 6.73842105, 7.15894737, 7.57947368, 8.        ]))"
      ]
     },
     "execution_count": 14,
     "metadata": {},
     "output_type": "execute_result"
    }
   ],
   "source": [
    "rho_array,P_array"
   ]
  },
  {
   "cell_type": "code",
   "execution_count": 15,
   "metadata": {},
   "outputs": [
    {
     "name": "stdout",
     "output_type": "stream",
     "text": [
      "WARM UP -9.325135308789577 47.00607833486584\n",
      "0 -10.87201440327904 44.58630248317658\n",
      "1000 -9.950457224136219 42.267524927794696\n",
      "2000 -7.138030970491943 47.25322515852629\n",
      "3000 -8.64941420552877 46.98136984185395\n",
      "4000 -9.489655682834544 43.6236384081035\n",
      "5000 -8.41640369382065 46.937131973854385\n",
      "6000 -8.880957483578303 49.68093217159779\n",
      "7000 -8.817640675778055 46.548837354148255\n",
      "8000 -10.0887905409919 43.04579940284934\n",
      "9000 -7.3749709134197925 51.01895053073026\n"
     ]
    }
   ],
   "source": [
    "particles,energy_array,L_array=density_result(123,L,np.log(8),0.5)"
   ]
  },
  {
   "cell_type": "code",
   "execution_count": 16,
   "metadata": {},
   "outputs": [
    {
     "data": {
      "text/plain": [
       "0.7004449510096982"
      ]
     },
     "execution_count": 16,
     "metadata": {},
     "output_type": "execute_result"
    }
   ],
   "source": [
    "npart/np.mean(L_array)"
   ]
  },
  {
   "cell_type": "code",
   "execution_count": 17,
   "metadata": {},
   "outputs": [],
   "source": [
    "#fig, ax1 = plt.subplots()\n",
    "#ax1.plot(L_array,\"r\")"
   ]
  },
  {
   "cell_type": "code",
   "execution_count": 18,
   "metadata": {},
   "outputs": [],
   "source": [
    "#rho_avg = npart/np.mean(L_array)"
   ]
  },
  {
   "cell_type": "code",
   "execution_count": 19,
   "metadata": {},
   "outputs": [],
   "source": [
    "def P_hr(rho):\n",
    "    return rho/(1-rho)"
   ]
  },
  {
   "cell_type": "code",
   "execution_count": 20,
   "metadata": {},
   "outputs": [],
   "source": [
    "#P_hr(rho_avg),pressure"
   ]
  },
  {
   "cell_type": "code",
   "execution_count": 21,
   "metadata": {},
   "outputs": [
    {
     "data": {
      "text/plain": [
       "[<matplotlib.lines.Line2D at 0x7fe6fe9c1160>]"
      ]
     },
     "execution_count": 21,
     "metadata": {},
     "output_type": "execute_result"
    },
    {
     "data": {
      "image/png": "[encoded data removed]",
      "text/plain": [
       "<Figure size 432x288 with 1 Axes>"
      ]
     },
     "metadata": {},
     "output_type": "display_data"
    }
   ],
   "source": [
    "plt.plot(rho_array,P_array,\"o\")\n",
    "x = np.linspace(0,0.95,100)\n",
    "plt.plot(x,P_hr(x))\n"
   ]
  },
  {
   "cell_type": "code",
   "execution_count": 22,
   "metadata": {},
   "outputs": [
    {
     "data": {
      "text/plain": [
       "[<matplotlib.lines.Line2D at 0x7fe6fe029a58>]"
      ]
     },
     "execution_count": 22,
     "metadata": {},
     "output_type": "execute_result"
    },
    {
     "data": {
      "image/png": "[encoded data removed]",
      "text/plain": [
       "<Figure size 432x288 with 1 Axes>"
      ]
     },
     "metadata": {},
     "output_type": "display_data"
    }
   ],
   "source": [
    "plt.plot(rho_array)"
   ]
  },
  {
   "cell_type": "code",
   "execution_count": 23,
   "metadata": {},
   "outputs": [],
   "source": [
    "P_rho=np.loadtxt(\"P_rho_eps_\"+str(eps)+\".dat\")"
   ]
  },
  {
   "cell_type": "code",
   "execution_count": 24,
   "metadata": {},
   "outputs": [
    {
     "data": {
      "text/plain": [
       "[<matplotlib.lines.Line2D at 0x7fe6fe002eb8>]"
      ]
     },
     "execution_count": 24,
     "metadata": {},
     "output_type": "execute_result"
    },
    {
     "data": {
      "image/png": "[encoded data removed]",
      "text/plain": [
       "<Figure size 432x288 with 1 Axes>"
      ]
     },
     "metadata": {},
     "output_type": "display_data"
    }
   ],
   "source": [
    "plt.plot(P_rho[1],P_rho[0],\"o\")"
   ]
  }
 ],
 "metadata": {
  "kernelspec": {
   "display_name": "Python 3",
   "language": "python",
   "name": "python3"
  },
  "language_info": {
   "codemirror_mode": {
    "name": "ipython",
    "version": 3
   },
   "file_extension": ".py",
   "mimetype": "text/x-python",
   "name": "python",
   "nbconvert_exporter": "python",
   "pygments_lexer": "ipython3",
   "version": "3.6.4"
  }
 },
 "nbformat": 4,
 "nbformat_minor": 2
}
