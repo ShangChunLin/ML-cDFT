{
 "cells": [
  {
   "cell_type": "markdown",
   "metadata": {},
   "source": [
    "# density profile in wall with $\\mu VT$ ensumble \n",
    "http://www.fhi-berlin.mpg.de/~luca/Course_TU/02_Metropolis_MonteCarlo.pdf"
   ]
  },
  {
   "cell_type": "code",
   "execution_count": 1,
   "metadata": {},
   "outputs": [],
   "source": [
    "from numpy import random \n",
    "import numpy as np \n",
    "import math\n",
    "%matplotlib inline \n",
    "import matplotlib\n",
    "import matplotlib.pyplot as plt\n",
    "\n",
    "from numba import jit"
   ]
  },
  {
   "cell_type": "code",
   "execution_count": 2,
   "metadata": {},
   "outputs": [],
   "source": [
    "sigma   = 1\n",
    "L =  32\n",
    "dx = 1.0/8\n",
    "halfL = L/2\n",
    "#z=1 #exp(mu)"
   ]
  },
  {
   "cell_type": "code",
   "execution_count": 3,
   "metadata": {},
   "outputs": [],
   "source": [
    "# Some helper functions\n",
    "@jit\n",
    "def wrap(particle):\n",
    "    '''Apply perodic boundary conditions.'''\n",
    "    if particle >= L:\n",
    "        particle -= L\n",
    "    elif particle < 0:\n",
    "        particle += L\n",
    "    return particle"
   ]
  },
  {
   "cell_type": "code",
   "execution_count": 4,
   "metadata": {},
   "outputs": [],
   "source": [
    "@jit\n",
    "def Vext_cal(x,a,b,c):\n",
    "    if(x<=1):\n",
    "        V=10**8\n",
    "    else:\n",
    "        V=0\n",
    "    return V    "
   ]
  },
  {
   "cell_type": "code",
   "execution_count": 5,
   "metadata": {},
   "outputs": [
    {
     "name": "stderr",
     "output_type": "stream",
     "text": [
      "/home/sam/anaconda3/lib/python3.6/site-packages/ipykernel_launcher.py:1: DeprecationWarning: object of type <class 'float'> cannot be safely interpreted as an integer.\n",
      "  \"\"\"Entry point for launching an IPython kernel.\n"
     ]
    },
    {
     "data": {
      "text/plain": [
       "[<matplotlib.lines.Line2D at 0x7f8a9c003a90>]"
      ]
     },
     "execution_count": 5,
     "metadata": {},
     "output_type": "execute_result"
    },
    {
     "data": {
      "image/png": "[encoded data removed]",
      "text/plain": [
       "<Figure size 432x288 with 1 Axes>"
      ]
     },
     "metadata": {},
     "output_type": "display_data"
    }
   ],
   "source": [
    "x= np.linspace(0,L,32//dx)\n",
    "Vext = np.zeros(int(32/dx))\n",
    "for i in range (int(32/dx)):\n",
    "    Vext[i]=Vext_cal(i*L/32*dx,1,L/4,3)\n",
    "plt.plot(x,Vext)\n"
   ]
  },
  {
   "cell_type": "code",
   "execution_count": 6,
   "metadata": {},
   "outputs": [],
   "source": [
    "@jit\n",
    "def distancesq(x1, x2):\n",
    "    '''Gets the squared distance between two particles, applying the minimum image convention.'''\n",
    "    # Calculate distances\n",
    "    Dx = np.abs(x1-x2)\n",
    "    if Dx > halfL:\n",
    "        Dx -= L\n",
    "    return Dx**2"
   ]
  },
  {
   "cell_type": "code",
   "execution_count": 7,
   "metadata": {},
   "outputs": [],
   "source": [
    "@jit\n",
    "def energy(particles,exist,epsilon,a,b,c):\n",
    "    '''Gets the energy of the system'''\n",
    "    energy = 0.\n",
    "    \n",
    "    for i in range(int(L)):\n",
    "        for j in range(int(L)):\n",
    "            if(i!=j and exist[i]*exist[j]==1):\n",
    "                dist = distancesq(particles[i], particles[j])\n",
    "                energy += 4.*epsilon*((1/dist**6)-(1/dist**3))\n",
    "                if(dist<1):\n",
    "                    print(\"Wrong!!!!\")\n",
    "    energy/=2\n",
    "    \n",
    "    for i in range(int(L)):\n",
    "        if(exist[i]==1):\n",
    "            energy+=Vext_cal(particles[i],a,b,c)\n",
    "    \n",
    "    return energy "
   ]
  },
  {
   "cell_type": "code",
   "execution_count": 8,
   "metadata": {},
   "outputs": [],
   "source": [
    "@jit\n",
    "def particleEnergy(particle,p,exist, particles,epsilon,a,b,c):\n",
    "    '''Gets the energy of a single particle.'''\n",
    "    part_energy = 0.\n",
    "    \n",
    "    for i in range(int(L)):\n",
    "        if(i!=p and exist[i]==1):\n",
    "            dist = distancesq(particle, particles[i])\n",
    "            if(dist<1):\n",
    "                return 10**8\n",
    "            part_energy += 4*epsilon*((1/dist**6)-(1/dist**3))\n",
    "            \n",
    "    \n",
    "    part_energy+=Vext_cal(particle,a,b,c)\n",
    "    \n",
    "    return part_energy"
   ]
  },
  {
   "cell_type": "code",
   "execution_count": 9,
   "metadata": {},
   "outputs": [],
   "source": [
    "# Initialize the simulation box:\n",
    "@jit\n",
    "def initial():\n",
    "    particles = np.zeros(int(L))\n",
    "    exist = np.zeros(int(L))\n",
    "    for i in range(int(L)):\n",
    "        #x_coord = random.uniform(0, L)\n",
    "        particles[i]=i\n",
    "        prop = random.uniform(0, 1)\n",
    "        #if(prop>=0.5):\n",
    "        #    exist[i]=1\n",
    "    return particles,exist"
   ]
  },
  {
   "cell_type": "code",
   "execution_count": 10,
   "metadata": {},
   "outputs": [],
   "source": [
    "@jit\n",
    "def density_cal(particles,exist):\n",
    "    n=int(L/dx)\n",
    "    #dx=L/n\n",
    "    #print(n,dx)\n",
    "    rho = np.zeros(int(n),float)\n",
    "    for i in range(int(L)):\n",
    "        if(exist[i]==1):\n",
    "            j=np.around(particles[i]//dx)\n",
    "            rho[int(j)]+=1\n",
    "    return rho/dx\n",
    "\n",
    "\n"
   ]
  },
  {
   "cell_type": "code",
   "execution_count": 11,
   "metadata": {},
   "outputs": [],
   "source": [
    "@jit\n",
    "def insertion(particles,z,exist,eps,a,b,c):\n",
    "    for i in range (int(L)):\n",
    "        if(exist[i]==0):\n",
    "            particles[i] = random.uniform(0, L)\n",
    "            ene = particleEnergy(particles[i],i,exist, particles,eps,a,b,c)\n",
    "            prop = z*L/(np.sum(exist)+1)*np.exp(-ene)\n",
    "            if(prop>=1):\n",
    "                exist[i]=1\n",
    "            elif(prop<1):\n",
    "                dice = random.uniform(0, 1)\n",
    "                if(dice<prop):\n",
    "                    exist[i]=1\n",
    "            break\n",
    "\n",
    "@jit                   \n",
    "def deletion(particles,z,exist,eps,a,b,c):\n",
    "    M=np.random.randint(1,np.sum(exist)+1)\n",
    "    cum_exist=np.cumsum(exist)\n",
    "    for i in range (int(L)):\n",
    "        if(exist[i]==1 and cum_exist[i]==M):\n",
    "            ene = -particleEnergy(particles[i],i,exist, particles,eps,a,b,c)\n",
    "            prop = np.sum(exist)/L/z*np.exp(-ene)\n",
    "            if(prop>=1):\n",
    "                exist[i]=0\n",
    "            elif(prop<1):\n",
    "                dice = random.uniform(0, 1)\n",
    "                if(dice<prop):\n",
    "                    exist[i]=0\n",
    "            break\n",
    "            "
   ]
  },
  {
   "cell_type": "code",
   "execution_count": 12,
   "metadata": {},
   "outputs": [],
   "source": [
    "@jit\n",
    "def MC_step(particles,z,exist,steps,eps,a,b,c,Print=True):\n",
    "    for step in range(0, steps):\n",
    "        prop = np.random.uniform(-0.5, 0.5)\n",
    "        if(prop>0 and np.sum(exist)<L):\n",
    "            insertion(particles,z,exist,eps,a,b,c)\n",
    "        elif(np.sum(exist)>0):\n",
    "            deletion(particles,z,exist,eps,a,b,c)\n",
    "        if(step%100000==0 and Print==True):\n",
    "            print(step,np.sum(exist))\n",
    "    return particles,energy(particles,exist,eps,a,b,c) "
   ]
  },
  {
   "cell_type": "code",
   "execution_count": 13,
   "metadata": {},
   "outputs": [],
   "source": [
    "@jit\n",
    "def MC_result(seed,z,eps,a,b,c):\n",
    "\n",
    "    np.random.seed(seed)\n",
    "    particles,exist = initial()\n",
    "    \"warm up\"\n",
    "    particles, energy = MC_step(particles,z,exist,1000,eps,a,b,c)\n",
    "    avg_step = 10**6\n",
    "    rho = density_cal(particles,exist)\n",
    "    energy_avg=0\n",
    "    N_avg=0\n",
    "    ene_array = np.zeros(0)\n",
    "    N_array = np.zeros(0)\n",
    "    ene_array=np.append(ene_array,energy)\n",
    "    N_array=np.append(N_array,np.sum(exist))\n",
    "    for i in range(avg_step-1):\n",
    "        np.random.seed(i)\n",
    "        particles, ene = MC_step(particles,z,exist,1000,eps,a,b,c,Print=False)\n",
    "        ene_array=np.append(ene_array,ene)\n",
    "        N_array=np.append(N_array,np.sum(exist))\n",
    "        rho += density_cal(particles,exist )\n",
    "        if(i%10000==0):\n",
    "            print(i,ene,np.sum(exist))\n",
    "    rho=rho/avg_step\n",
    "    print(\"energy_avg\",np.sum(ene_array)/len(ene_array),\n",
    "          np.sum(N_array)/len(N_array)/L)\n",
    "    return rho, particles,ene_array,N_array\n",
    "\n",
    "\n",
    "def density_result(seed,z,eps):\n",
    "    \"\"\"\n",
    "    density = random.uniform(0.3,0.5)\n",
    "    a=random.uniform(1,3)\n",
    "    b=random.uniform(0,1)\n",
    "    c=random.uniform(1,L/8)\n",
    "    \"\"\"\n",
    "    a=0\n",
    "    b=0\n",
    "    c=0\n",
    "    rho,particles,energy,N_array = MC_result(seed,z,eps,a,b,c)\n",
    "    return rho,particles,energy,N_array"
   ]
  },
  {
   "cell_type": "code",
   "execution_count": 19,
   "metadata": {},
   "outputs": [
    {
     "name": "stdout",
     "output_type": "stream",
     "text": [
      "0 1.0\n",
      "0 -7.2775598614897525 16.0\n",
      "10000 -36.070272525914966 24.0\n",
      "20000 -26.4268624436257 21.0\n",
      "30000 -23.636389894536165 20.0\n",
      "40000 -27.123937469664355 22.0\n",
      "50000 -26.585158879792957 22.0\n",
      "60000 -29.833463287726282 23.0\n",
      "70000 -22.431648422441718 21.0\n",
      "80000 -24.03895823203449 21.0\n",
      "90000 -34.41943041271228 25.0\n",
      "100000 -33.893701918878946 24.0\n",
      "110000 -27.774560239736903 23.0\n",
      "120000 -25.135703966320698 22.0\n",
      "130000 -16.558058144505843 17.0\n",
      "140000 -36.25865318863864 25.0\n",
      "150000 -24.55627709627524 22.0\n",
      "160000 -33.416905478122594 24.0\n",
      "170000 -24.544073042714256 20.0\n",
      "180000 -36.14912946066103 24.0\n",
      "190000 -27.30073118446851 22.0\n",
      "200000 -21.631116221095905 21.0\n",
      "210000 -29.475129220228506 22.0\n",
      "220000 -32.227831506525966 22.0\n",
      "230000 -30.92862101218321 23.0\n",
      "240000 -30.26725218946617 24.0\n",
      "250000 -17.073115820101773 20.0\n",
      "260000 -28.49952304816004 22.0\n",
      "270000 -24.957148475664923 22.0\n",
      "280000 -32.00723007240712 23.0\n",
      "290000 -29.697275664225934 22.0\n",
      "300000 -31.805255824672674 24.0\n",
      "310000 -12.5052994266702 15.0\n",
      "320000 -21.49072712973047 19.0\n",
      "330000 -27.119592512742372 23.0\n",
      "340000 -28.908035911058615 23.0\n",
      "350000 -26.35539893789728 22.0\n",
      "360000 -30.28616864428514 23.0\n",
      "370000 -29.130735540513825 23.0\n",
      "380000 -31.5140403649725 23.0\n",
      "390000 -36.710506798863946 25.0\n",
      "400000 -25.728295056615 19.0\n",
      "410000 -29.42815795623228 23.0\n",
      "420000 -33.16009614014157 24.0\n",
      "430000 -22.55651968978872 21.0\n",
      "440000 -21.488259480725013 19.0\n",
      "450000 -17.636469341966237 16.0\n",
      "460000 -28.543403163164168 23.0\n",
      "470000 -31.611728690476344 22.0\n",
      "480000 -28.126864732774656 22.0\n",
      "490000 -25.342033948686026 22.0\n",
      "500000 -31.831783575610128 24.0\n",
      "510000 -29.95180135126488 23.0\n",
      "520000 -38.35170040070488 24.0\n",
      "530000 -26.621697945338497 21.0\n",
      "540000 -22.03916948797256 21.0\n",
      "550000 -28.36659118344967 23.0\n",
      "560000 -35.93717352480976 24.0\n",
      "570000 -32.69489325217472 24.0\n",
      "580000 -25.495092717898206 21.0\n",
      "590000 -27.966507823862063 23.0\n",
      "600000 -31.28837784706537 24.0\n",
      "610000 -22.602763816754006 19.0\n",
      "620000 -27.031623696771703 21.0\n",
      "630000 -25.15642728765903 22.0\n",
      "640000 -25.89082907773388 21.0\n",
      "650000 -16.027284758846992 18.0\n",
      "660000 -38.05324107557726 25.0\n",
      "670000 -31.502213095560553 24.0\n",
      "680000 -20.21947833179922 20.0\n",
      "690000 -34.769415735113995 25.0\n",
      "700000 -30.631544500729685 23.0\n",
      "710000 -25.681480655418696 21.0\n",
      "720000 -23.625141984910965 19.0\n",
      "730000 -31.48121994844819 21.0\n",
      "740000 -21.982324401507856 20.0\n",
      "750000 -33.11506760793179 24.0\n",
      "760000 -30.333659198646806 23.0\n",
      "770000 -29.533128961793814 23.0\n",
      "780000 -30.56046437980263 22.0\n",
      "790000 -27.91169283453927 23.0\n",
      "800000 -28.715854721456633 21.0\n",
      "810000 -35.06042006821091 25.0\n",
      "820000 -29.592701520040396 22.0\n",
      "830000 -28.99375686851208 22.0\n",
      "840000 -25.976368275934348 22.0\n",
      "850000 -26.328578331825174 22.0\n",
      "860000 -37.80884817093942 25.0\n",
      "870000 -29.815593901971187 23.0\n",
      "880000 -20.19943880608981 19.0\n",
      "890000 -25.363423311640474 23.0\n",
      "900000 -29.379361007484135 23.0\n",
      "910000 -24.996919883331856 21.0\n",
      "920000 -29.239761625057675 22.0\n",
      "930000 -31.060925275833277 23.0\n",
      "940000 -19.113144909046433 19.0\n",
      "950000 -38.166482328180834 25.0\n",
      "960000 -24.07194384769473 21.0\n",
      "970000 -33.778898182274055 24.0\n",
      "980000 -33.41866269481891 23.0\n",
      "990000 -25.63569228293503 21.0\n",
      "energy_avg -28.291148152608802 0.689236875\n"
     ]
    }
   ],
   "source": [
    "z = 1.5\n",
    "eps = 2\n",
    "rho,particles,energy_array,N_array=density_result(123,z,eps)"
   ]
  },
  {
   "cell_type": "code",
   "execution_count": 20,
   "metadata": {},
   "outputs": [
    {
     "data": {
      "text/plain": [
       "[<matplotlib.lines.Line2D at 0x7f8a9b413da0>]"
      ]
     },
     "execution_count": 20,
     "metadata": {},
     "output_type": "execute_result"
    },
    {
     "data": {
      "image/png": "[encoded data removed]",
      "text/plain": [
       "<Figure size 432x288 with 1 Axes>"
      ]
     },
     "metadata": {},
     "output_type": "display_data"
    }
   ],
   "source": [
    "fig, ax1 = plt.subplots()\n",
    "ax1.plot(rho,\"r\")"
   ]
  },
  {
   "cell_type": "code",
   "execution_count": 21,
   "metadata": {},
   "outputs": [],
   "source": [
    "np.savetxt(\"wall_mu_ln_\"+str(z)+\"_eps_\"+str(eps)+\"_MC.dat\",rho)"
   ]
  },
  {
   "cell_type": "code",
   "execution_count": null,
   "metadata": {},
   "outputs": [],
   "source": []
  }
 ],
 "metadata": {
  "kernelspec": {
   "display_name": "Python 3",
   "language": "python",
   "name": "python3"
  },
  "language_info": {
   "codemirror_mode": {
    "name": "ipython",
    "version": 3
   },
   "file_extension": ".py",
   "mimetype": "text/x-python",
   "name": "python",
   "nbconvert_exporter": "python",
   "pygments_lexer": "ipython3",
   "version": "3.6.4"
  }
 },
 "nbformat": 4,
 "nbformat_minor": 2
}
